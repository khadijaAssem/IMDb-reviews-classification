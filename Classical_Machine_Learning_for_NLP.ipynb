{
  "cells": [
    {
      "cell_type": "markdown",
      "metadata": {
        "id": "view-in-github",
        "colab_type": "text"
      },
      "source": [
        "<a href=\"https://colab.research.google.com/github/khadijaAssem/IMDb-reviews-classification/blob/main/Classical_Machine_Learning_for_NLP.ipynb\" target=\"_parent\"><img src=\"https://colab.research.google.com/assets/colab-badge.svg\" alt=\"Open In Colab\"/></a>"
      ]
    },
    {
      "cell_type": "code",
      "execution_count": null,
      "metadata": {
        "id": "6seBT0T2_0UN"
      },
      "outputs": [],
      "source": [
        "import numpy as np\n",
        "import pandas as pd\n",
        "import seaborn as sns\n",
        "import matplotlib.pyplot as plt\n",
        "import itertools\n",
        "import csv\n",
        "import os\n",
        "import re\n",
        "\n",
        "from tempfile import TemporaryFile\n",
        "\n",
        "from sklearn import preprocessing\n",
        "from sklearn.feature_extraction.text import CountVectorizer\n",
        "from sklearn.feature_extraction.text import TfidfVectorizer\n",
        "from sklearn.model_selection import train_test_split\n",
        "from sklearn.preprocessing import MaxAbsScaler\n",
        "\n",
        "from sklearn.linear_model import LogisticRegression\n",
        "from sklearn.ensemble import RandomForestClassifier\n",
        "from sklearn.neighbors import KNeighborsClassifier\n",
        "from sklearn.linear_model import SGDClassifier\n",
        "from sklearn.naive_bayes import MultinomialNB\n",
        "\n",
        "from sklearn.metrics import accuracy_score\n",
        "from sklearn.decomposition import PCA\n",
        "\n",
        "\n",
        "from gensim.models.fasttext import FastText\n",
        "from gensim.test.utils import common_texts  # some example sentences\n",
        "\n",
        "import nltk\n",
        "from nltk.tokenize.toktok import ToktokTokenizer\n",
        "from nltk.corpus import stopwords\n",
        "\n",
        "# nltk.download('stopwords')\n",
        "from nltk.stem import WordNetLemmatizer\n",
        "# nltk.download('wordnet')\n",
        "\n",
        "from wordcloud import WordCloud,STOPWORDS\n",
        "\n",
        "from keras.preprocessing.text import Tokenizer\n",
        "from keras.preprocessing import sequence\n",
        "\n",
        "from scipy.sparse import csr_matrix\n",
        "\n",
        "from google.colab import drive\n",
        "from tqdm import tqdm\n",
        "\n",
        "# !pip install fasttext\n",
        "\n",
        "# import fasttext\n",
        "# import fasttext.util\n",
        "\n",
        "\n",
        "# ---- Call tqdm to see progress bar with pandas\n",
        "# tqdm().pandas()"
      ]
    },
    {
      "cell_type": "code",
      "source": [
        "!pip install fasttext\n",
        "\n",
        "import fasttext\n",
        "import fasttext.util"
      ],
      "metadata": {
        "colab": {
          "base_uri": "https://localhost:8080/"
        },
        "id": "UOtisr-qSr-V",
        "outputId": "26b88423-9c3f-4b2f-e134-6431fab34457"
      },
      "execution_count": null,
      "outputs": [
        {
          "output_type": "stream",
          "name": "stdout",
          "text": [
            "Requirement already satisfied: fasttext in /usr/local/lib/python3.7/dist-packages (0.9.2)\n",
            "Requirement already satisfied: numpy in /usr/local/lib/python3.7/dist-packages (from fasttext) (1.19.5)\n",
            "Requirement already satisfied: setuptools>=0.7.0 in /usr/local/lib/python3.7/dist-packages (from fasttext) (57.4.0)\n",
            "Requirement already satisfied: pybind11>=2.2 in /usr/local/lib/python3.7/dist-packages (from fasttext) (2.8.1)\n"
          ]
        }
      ]
    },
    {
      "cell_type": "code",
      "execution_count": null,
      "metadata": {
        "colab": {
          "base_uri": "https://localhost:8080/"
        },
        "id": "p5LuDk-xBBVo",
        "outputId": "67a3ca65-5354-4484-b254-61b3dcf465f6"
      },
      "outputs": [
        {
          "output_type": "stream",
          "name": "stdout",
          "text": [
            "Mounted at /content/drive\n"
          ]
        }
      ],
      "source": [
        "drive.mount('/content/drive', force_remount=True)"
      ]
    },
    {
      "cell_type": "code",
      "execution_count": null,
      "metadata": {
        "colab": {
          "base_uri": "https://localhost:8080/"
        },
        "id": "gzGdgYgazBGD",
        "outputId": "34c52534-9a53-4a26-f858-379e74999e7b"
      },
      "outputs": [
        {
          "output_type": "stream",
          "name": "stdout",
          "text": [
            "/content/drive/MyDrive/KH\n"
          ]
        }
      ],
      "source": [
        "cd drive/MyDrive/KH"
      ]
    },
    {
      "cell_type": "markdown",
      "metadata": {
        "id": "0XVKcyLBLwIL"
      },
      "source": [
        "Navigating to the data files path"
      ]
    },
    {
      "cell_type": "code",
      "execution_count": null,
      "metadata": {
        "colab": {
          "base_uri": "https://localhost:8080/"
        },
        "id": "FeJULGpoVoqx",
        "outputId": "8e2cdd2c-e338-48bb-9fd8-4f6505d49cf2"
      },
      "outputs": [
        {
          "name": "stdout",
          "output_type": "stream",
          "text": [
            "shell-init: error retrieving current directory: getcwd: cannot access parent directories: No such file or directory\n",
            "'Classical Machine Learning for NLP.ipynb'   Test.csv\n",
            " crawl-300d-2M-subword.bin                   test_cv.npy\n",
            " crawl-300d-2M-subword.vec                   test_embedding_matrix.npy\n",
            " fasttexttrained10_8.model                   Test_Labeled.csv\n",
            " imdbEr.txt                                  test_nopre_cv.npy\n",
            " imdb.vocab                                  test_nopre_tfid\n",
            " lemmanized_test.txt                         test_tfid.npy\n",
            " lemmanized_train.txt                        test_tokens.txt\n",
            " lemmatize_test_tokens.txt                   \u001b[0m\u001b[01;36mtrain\u001b[0m@\n",
            " lemmatize_train_tokens.txt                  Train.csv\n",
            " np_lemmanized_test.npy                      train_cv.npy\n",
            " np_lemmanized_train.npy                     train_embedding_matrix.npy\n",
            " np_lemmatize_test_tokens.npy                Train_Labeled.csv\n",
            " np_lemmatize_train_tokens.npy               train_nopre_cv.npy\n",
            " np_test_tokens.npy                          train_nopre_tfid.npy\n",
            " np_train_tokens.npy                         train_tfid.npy\n",
            " README                                      train_tokens.txt\n",
            " \u001b[01;36mtest\u001b[0m@\n"
          ]
        }
      ],
      "source": [
        "ls"
      ]
    },
    {
      "cell_type": "code",
      "execution_count": null,
      "metadata": {
        "colab": {
          "base_uri": "https://localhost:8080/"
        },
        "id": "fCKogEMgBIZP",
        "outputId": "fcd3f869-df59-4da9-e6b2-f4925500f71e"
      },
      "outputs": [
        {
          "name": "stdout",
          "output_type": "stream",
          "text": [
            "/content/drive/MyDrive/College/Term 9/dataMining\n"
          ]
        }
      ],
      "source": [
        "cd drive/MyDrive/College/Term 9/dataMining/"
      ]
    },
    {
      "cell_type": "markdown",
      "metadata": {
        "id": "2gLDH_C6tDE8"
      },
      "source": [
        "# To read data from files"
      ]
    },
    {
      "cell_type": "code",
      "execution_count": null,
      "metadata": {
        "id": "0FbcIgxbtCUD"
      },
      "outputs": [],
      "source": [
        "def get_train_tokens():\n",
        "  return np.load('Lab3//np_train_tokens.npy')\n",
        "\n",
        "def get_test_tokens():\n",
        "  return np.load('Lab3//np_test_tokens.npy')\n",
        "\n",
        "def get_lemmatize_train_tokens():\n",
        "  return np.load('Lab3//np_lemmatize_train_tokens.npy', allow_pickle=True)\n",
        "\n",
        "def get_lemmatize_test_tokens():\n",
        "  return np.load('Lab3//np_lemmatize_test_tokens.npy', allow_pickle=True)\n",
        "\n",
        "def get_lemmanized_train():\n",
        "  return np.load('Lab3//np_lemmanized_train.npy')\n",
        "\n",
        "def get_lemmanized_test():\n",
        "  return np.load('Lab3//np_lemmanized_test.npy')\n",
        "\n",
        "def get_original_data():\n",
        "  return pd.read_csv('Lab3//Train.csv')['Comment'], pd.read_csv('Lab3//Test.csv')['Comment']\n",
        "\n",
        "def get_cv ():\n",
        "  return np.load('Lab3//train_cv.npy', allow_pickle=True), np.load('Lab3//test_cv.npy', allow_pickle=True)\n",
        "\n",
        "def get_tfidf():\n",
        "  return np.load('Lab3//train_tfid.npy', allow_pickle=True), np.load('Lab3//test_tfid.npy', allow_pickle=True)\n",
        "\n",
        "def get_without_preprocessing_cv():\n",
        "  return np.load('Lab3//train_nopre_cv.npy', allow_pickle=True), np.load('Lab3//test_nopre_cv.npy', allow_pickle=True) \n",
        "\n",
        "def get_without_preprocessing_tfid():\n",
        "  return np.load('Lab3//train_nopre_tfid.npy', allow_pickle=True), np.load('Lab3//test_nopre_tfid.npy', allow_pickle=True) \n",
        "\n",
        "def get_embedding_train():\n",
        "  return np.load('train_embedding_matrix.npy', allow_pickle=True) \n",
        "\n",
        "def get_embedding_test():\n",
        "  return np.load('test_embedding_matrix.npy', allow_pickle=True) "
      ]
    },
    {
      "cell_type": "markdown",
      "metadata": {
        "id": "66oE_B5QXsOc"
      },
      "source": [
        "# Creating CSV files"
      ]
    },
    {
      "cell_type": "markdown",
      "metadata": {
        "id": "kQ-6t8p2tObX"
      },
      "source": [
        "Global Vars"
      ]
    },
    {
      "cell_type": "code",
      "execution_count": null,
      "metadata": {
        "id": "g0W2VKJHtRQE"
      },
      "outputs": [],
      "source": [
        "SEPARATOR = '_'\n",
        "NEGATIVE_LABEL = 'NEGATIVE'\n",
        "POSITIVE_LABEL = 'POSITIVE'"
      ]
    },
    {
      "cell_type": "markdown",
      "metadata": {
        "id": "TswA8kbFL1P7"
      },
      "source": [
        "Reading file names for all data files "
      ]
    },
    {
      "cell_type": "code",
      "execution_count": null,
      "metadata": {
        "id": "xR-ZvgWHBki6"
      },
      "outputs": [],
      "source": [
        "dataFilesPaths = ['/train/pos/', '/train/neg/', '/test/pos/', '/test/neg/']\n",
        "\n",
        "mypath = os.getcwd()\n",
        "filenames = {'/train/pos/': [], '/train/neg/': [], '/test/pos/': [], '/test/neg/': []}\n",
        "for filePath in dataFilesPaths:\n",
        "  filenames[filePath] = next(os.walk(mypath+filePath), (None, None, []))[2]  # [] if no file"
      ]
    },
    {
      "cell_type": "markdown",
      "metadata": {
        "id": "LqJ7nAcQKEus"
      },
      "source": [
        "Train positive : 12500\n",
        "\n",
        "Train negative : 12500\n",
        "\n",
        "Test positive : 12500\n",
        "\n",
        "Test negative : 12500"
      ]
    },
    {
      "cell_type": "code",
      "execution_count": null,
      "metadata": {
        "id": "USuBoUl3PKvD"
      },
      "outputs": [],
      "source": [
        "def getDataTuples(foldersPaths):\n",
        "  dataTuples = []\n",
        "  for filePath in foldersPaths:\n",
        "    print(filePath)\n",
        "    count = 0\n",
        "    for filename in filenames[filePath]:\n",
        "      count += 1\n",
        "      file = open(mypath+filePath+filename, \"r\")\n",
        "      rate = int(filename[int(filename.index(SEPARATOR)+1)])\n",
        "      if (filename[int(filename.index(SEPARATOR)+2)] == '0'): rate = 10\n",
        "      dataTuples.append((file.read(), rate))\n",
        "      file.close()\n",
        "      print(count)\n",
        "    print(count)\n",
        "  return dataTuples"
      ]
    },
    {
      "cell_type": "code",
      "execution_count": null,
      "metadata": {
        "id": "w1Hc39fbsbZl"
      },
      "outputs": [],
      "source": [
        "''' A negative review has a score <= 4 out of 10,\n",
        "and a positive review has a score >= 7 out of 10. Thus reviews with\n",
        "more neutral ratings are not included in the train/test sets. In the\n",
        "unsupervised set, reviews of any rating are included and there are an\n",
        "even number of reviews > 5 and <= 5.\n",
        "'''\n",
        "\n",
        "def getLabeledDataTuples(foldersPaths):\n",
        "  dataTuples = []\n",
        "  for filePath in foldersPaths:\n",
        "    print(filePath)\n",
        "    count = 0\n",
        "    for filename in filenames[filePath]:\n",
        "      count += 1\n",
        "      file = open(mypath+filePath+filename, \"r\")\n",
        "      rate = int(filename[int(filename.index(SEPARATOR)+1)])\n",
        "      if (filename[int(filename.index(SEPARATOR)+2)] == '0'): rate = 10\n",
        "      label = POSITIVE_LABEL\n",
        "      if(rate <= 4): label = NEGATIVE_LABEL\n",
        "      dataTuples.append((file.read(), label))\n",
        "      file.close()\n",
        "      print(count)\n",
        "    print(count)\n",
        "  return dataTuples"
      ]
    },
    {
      "cell_type": "code",
      "execution_count": null,
      "metadata": {
        "id": "c9BERoDFEYC1"
      },
      "outputs": [],
      "source": [
        "def generateUnlabeledTrainFile():\n",
        "  print(dataFilesPaths[:2])\n",
        "  trainDataTuples = getDataTuples(dataFilesPaths[:2])\n",
        "  traindf = pd.DataFrame(trainDataTuples, columns = ['Comment', 'Rate'])\n",
        "  print(traindf)\n",
        "  train_compression_opts = dict(method='zip', archive_name='Train.csv')  \n",
        "  traindf.to_csv('Train.zip', index=False, compression=train_compression_opts)"
      ]
    },
    {
      "cell_type": "code",
      "execution_count": null,
      "metadata": {
        "id": "kb-E7Lgtmt-u"
      },
      "outputs": [],
      "source": [
        "def generateUnlabeledTestFile():\n",
        "  print(dataFilesPaths[2:])\n",
        "  testDataTuples = getDataTuples(dataFilesPaths[2:])\n",
        "  testdf = pd.DataFrame(testDataTuples, columns = ['Comment', 'Rate'])\n",
        "  print(testdf)\n",
        "  test_compression_opts = dict(method='zip', archive_name='Test.csv')  \n",
        "  testdf.to_csv('Test.zip', index=False, compression=test_compression_opts)"
      ]
    },
    {
      "cell_type": "code",
      "execution_count": null,
      "metadata": {
        "id": "5q_KiUH0tnhq"
      },
      "outputs": [],
      "source": [
        "def generateLabeledTrainFile():\n",
        "  print(dataFilesPaths[:2])\n",
        "  trainDataTuples = getLabeledDataTuples(dataFilesPaths[:2])\n",
        "  traindf = pd.DataFrame(trainDataTuples, columns = ['Comment', 'Label'])\n",
        "  print(traindf)\n",
        "  train_compression_opts = dict(method='zip', archive_name='Train_Labeled.csv')  \n",
        "  traindf.to_csv('Train_Labeled.zip', index=False, compression=train_compression_opts)"
      ]
    },
    {
      "cell_type": "code",
      "execution_count": null,
      "metadata": {
        "id": "8zGfcPeHt3W1"
      },
      "outputs": [],
      "source": [
        "def generateLabeledTestFile():\n",
        "  print(dataFilesPaths[2:])\n",
        "  testDataTuples = getLabeledDataTuples(dataFilesPaths[2:])\n",
        "  testdf = pd.DataFrame(testDataTuples, columns = ['Comment', 'Rate'])\n",
        "  print(testdf)\n",
        "  test_compression_opts = dict(method='zip', archive_name='Test_Labeled.csv')  \n",
        "  testdf.to_csv('Test_Labeled.zip', index=False, compression=test_compression_opts)"
      ]
    },
    {
      "cell_type": "code",
      "execution_count": null,
      "metadata": {
        "id": "w74GQSbluXLF"
      },
      "outputs": [],
      "source": [
        "generateLabeledTrainFile()\n",
        "generateLabeledTestFile()"
      ]
    },
    {
      "cell_type": "markdown",
      "metadata": {
        "id": "MPySzPauvnDr"
      },
      "source": [
        "# Preprocessing"
      ]
    },
    {
      "cell_type": "markdown",
      "metadata": {
        "id": "I2CBPuhnjekM"
      },
      "source": [
        "cleaning\n",
        "\n",
        "removing punctuation and html words like"
      ]
    },
    {
      "cell_type": "code",
      "execution_count": null,
      "metadata": {
        "id": "RL1kAUvGr0km"
      },
      "outputs": [],
      "source": [
        "REPLACE_NO_SPACE = re.compile(\"[.;:!\\'?,\\\"()\\[\\]]\")\n",
        "REPLACE_WITH_SPACE = re.compile(\"(<br\\s*/><br\\s*/>)|(\\-)|(\\/)\")\n",
        "\n",
        "def preprocess_reviews(reviews):\n",
        "    reviews = [REPLACE_NO_SPACE.sub(\"\", line.lower()) for line in reviews]\n",
        "    reviews = [REPLACE_WITH_SPACE.sub(\" \", line) for line in reviews]\n",
        "    \n",
        "    return reviews\n",
        "\n",
        "# test_data['Comment']=preprocess_reviews(test_data['Comment'])\n",
        "# train_data['Comment']=preprocess_reviews(train_data['Comment'])\n",
        "\n",
        "# print(train_data)\n",
        "# print(test_data)\n"
      ]
    },
    {
      "cell_type": "markdown",
      "metadata": {
        "id": "i2O7wt9Hvv2L"
      },
      "source": [
        "\n",
        " **stop words removal**\n",
        " \n",
        " like ('i', 'me', 'my', 'myself', 'we')"
      ]
    },
    {
      "cell_type": "code",
      "execution_count": null,
      "metadata": {
        "id": "SHLHqhfwsRxa"
      },
      "outputs": [],
      "source": [
        "\n",
        "#Tokenization of text\n",
        "tokenizer=ToktokTokenizer()\n",
        "#Setting English stopwords\n",
        "stopword_list=nltk.corpus.stopwords.words('english')\n",
        "\n",
        "\n",
        "def remove_stopwords(text):\n",
        "    tokens = tokenizer.tokenize(text)\n",
        "    tokens = [token.strip() for token in tokens]\n",
        "    filtered_tokens = [token for token in tokens if token not in stopword_list]\n",
        "    filtered_text = ' '.join(filtered_tokens)    \n",
        "    return filtered_text\n",
        "# #Apply function on review column\n",
        "# train_data['Comment']=train_data['Comment'].apply(remove_stopwords)\n",
        "# test_data['Comment']=test_data['Comment'].apply(remove_stopwords)\n",
        "\n",
        "# print(train_data)\n",
        "# print(test_data)\n"
      ]
    },
    {
      "cell_type": "markdown",
      "metadata": {
        "id": "Ti192xvXGPLM"
      },
      "source": [
        "**Tokenization**"
      ]
    },
    {
      "cell_type": "code",
      "execution_count": null,
      "metadata": {
        "id": "MK0BFGaJ7spT"
      },
      "outputs": [],
      "source": [
        "def tokenize(text):\n",
        "    ret_tokens=[]\n",
        "    for item in text:\n",
        "      tokens = tokenizer.tokenize(item)\n",
        "      ret_tokens.append(tokens)\n",
        "    return(ret_tokens)\n",
        "    \n",
        "# train_tokens=tokenize(train_data['Comment'])\n",
        "# test_tokens=tokenize(test_data['Comment'])"
      ]
    },
    {
      "cell_type": "code",
      "execution_count": null,
      "metadata": {
        "id": "XQWCBm9mZLQj"
      },
      "outputs": [],
      "source": [
        "# print(train_tokens[0])\n",
        "# print(train_data['Comment'])"
      ]
    },
    {
      "cell_type": "markdown",
      "metadata": {
        "id": "X13g397AZe4Q"
      },
      "source": [
        "**lemmatization** \n",
        "\n",
        "*(links words with similar meanings to one word)*\n",
        "\n",
        "(rocks ==> rock, corpora ==> corpus, better ==> good )\n"
      ]
    },
    {
      "cell_type": "code",
      "execution_count": null,
      "metadata": {
        "id": "qeoDVYy0Eb66"
      },
      "outputs": [],
      "source": [
        "\n",
        "def lemmatize(tokens):\n",
        "  lemmatize_tokens = []\n",
        "  lemmatizer = WordNetLemmatizer()\n",
        "  for item in tokens:\n",
        "      words = [lemmatizer.lemmatize(word) for word in item]\n",
        "      lemmatize_tokens.append(words)\n",
        "  return lemmatize_tokens \n",
        "\n",
        "# lemmatize_train_tokens=lemmatize(train_tokens)\n",
        "# lemmatize_test_tokens=lemmatize(test_tokens)\n"
      ]
    },
    {
      "cell_type": "code",
      "execution_count": null,
      "metadata": {
        "id": "CanpHdEYF_PF"
      },
      "outputs": [],
      "source": [
        "#return array of strings to \n",
        "def listToString(data): \n",
        "  arr=[]\n",
        "  for item in data:\n",
        "    str1 = \" \" \n",
        "    str= str1.join(item) \n",
        "    arr.append(str) \n",
        "  return(arr) \n"
      ]
    },
    {
      "cell_type": "markdown",
      "metadata": {
        "id": "0O2QQDJYyqAK"
      },
      "source": [
        "**Applying preprocessing**"
      ]
    },
    {
      "cell_type": "code",
      "execution_count": null,
      "metadata": {
        "id": "GSOGBQ6dBL3K"
      },
      "outputs": [],
      "source": [
        "def save_to_file(fname, data):\n",
        "  with open(fname, \"w\") as txt_file:\n",
        "      for line in data:\n",
        "          txt_file.write(\" \".join(line) + \"\\n\") # works with any number of elements in a line"
      ]
    },
    {
      "cell_type": "code",
      "execution_count": null,
      "metadata": {
        "colab": {
          "base_uri": "https://localhost:8080/"
        },
        "id": "IChXZnO_n5m3",
        "outputId": "549cd9e2-0184-4365-e047-a0110aa9e0fa"
      },
      "outputs": [
        {
          "name": "stderr",
          "output_type": "stream",
          "text": [
            "/usr/local/lib/python3.7/dist-packages/numpy/matrixlib/defmatrix.py:145: VisibleDeprecationWarning: Creating an ndarray from ragged nested sequences (which is a list-or-tuple of lists-or-tuples-or ndarrays with different lengths or shapes) is deprecated. If you meant to do this, you must specify 'dtype=object' when creating the ndarray\n",
            "  arr = N.array(data, dtype=dtype, copy=copy)\n"
          ]
        }
      ],
      "source": [
        "train_data = pd.read_csv('Train.csv')\n",
        "test_data = pd.read_csv('Test.csv')\n",
        "\n",
        "test_data['Comment']=preprocess_reviews(test_data['Comment'])\n",
        "train_data['Comment']=preprocess_reviews(train_data['Comment'])\n",
        "\n",
        "#Apply function on review column\n",
        "train_data['Comment']=train_data['Comment'].apply(remove_stopwords)\n",
        "test_data['Comment']=test_data['Comment'].apply(remove_stopwords)\n",
        "\n",
        "train_tokens=tokenize(train_data['Comment'])\n",
        "test_tokens=tokenize(test_data['Comment'])\n",
        "\n",
        "np_train_tokens = np.matrix(train_tokens)\n",
        "with open('np_train_tokens.npy', 'wb') as f:\n",
        "    np.save(f, np_train_tokens )\n",
        "\n",
        "np_test_tokens = np.matrix(test_tokens)\n",
        "with open('np_test_tokens.npy', 'wb') as f:\n",
        "    np.save(f, np_test_tokens )\n",
        "\n",
        "# save_to_file('train_tokens.txt', train_tokens)\n",
        "# save_to_file('test_tokens.txt', test_tokens)\n",
        "\n",
        "lemmatize_train_tokens=lemmatize(train_tokens)\n",
        "lemmatize_test_tokens=lemmatize(test_tokens)\n",
        "\n",
        "np_lemmatize_train_tokens = np.matrix(lemmatize_train_tokens)\n",
        "with open('np_lemmatize_train_tokens.npy', 'wb') as f:\n",
        "    np.save(f, np_lemmatize_train_tokens)\n",
        "\n",
        "np_lemmatize_test_tokens = np.matrix(lemmatize_test_tokens)\n",
        "with open('np_lemmatize_test_tokens.npy', 'wb') as f:\n",
        "    np.save(f, np_lemmatize_test_tokens)\n",
        "\n",
        "# save_to_file('lemmatize_train_tokens.txt', lemmatize_train_tokens)\n",
        "# save_to_file('lemmatize_test_tokens.txt', lemmatize_test_tokens)\n",
        "\n",
        "lemmanized_train=listToString(lemmatize_train_tokens)\n",
        "lemmanized_test=listToString(lemmatize_test_tokens)\n",
        "\n",
        "np_lemmanized_train = np.matrix(lemmanized_train)\n",
        "with open('np_lemmanized_train.npy', 'wb') as f:\n",
        "    np.save(f, np_lemmanized_train)\n",
        "\n",
        "np_lemmanized_test = np.matrix(lemmanized_test)\n",
        "with open('np_lemmanized_test.npy', 'wb') as f:\n",
        "    np.save(f, np_lemmanized_test)\n",
        "\n",
        "# save_to_file('lemmanized_train.txt', lemmanized_train)\n",
        "# save_to_file('lemmanized_test.txt', lemmanized_test)\n",
        "\n",
        "# del lemmatize_train_tokens\n",
        "# del lemmatize_test_tokens"
      ]
    },
    {
      "cell_type": "code",
      "execution_count": null,
      "metadata": {
        "id": "weaFTLvMkE6p"
      },
      "outputs": [],
      "source": [
        "del(train_data)\n",
        "del(test_data)\n",
        "del(train_tokens)\n",
        "del(test_tokens)\n",
        "del(REPLACE_NO_SPACE)\n",
        "del(REPLACE_WITH_SPACE)\n",
        "del(preprocess_reviews)\n",
        "del(tokenizer)\n",
        "del(stopword_list)\n",
        "del(remove_stopwords)\n",
        "del(tokenize)\n",
        "del(lemmatize)\n",
        "del(listToString)\n",
        "del(np_train_tokens)\n",
        "del(np_test_tokens)\n",
        "del(np_lemmatize_train_tokens)\n",
        "del(np_lemmatize_test_tokens)\n",
        "del(np_lemmanized_train)\n",
        "del(np_lemmanized_test)\n",
        "del(lemmatize_train_tokens)\n",
        "del(lemmatize_test_tokens)"
      ]
    },
    {
      "cell_type": "markdown",
      "metadata": {
        "id": "kYkHRFAVyROD"
      },
      "source": [
        "#  Corpus Analysis "
      ]
    },
    {
      "cell_type": "code",
      "execution_count": null,
      "metadata": {
        "id": "Cwhk7OXQyQSW"
      },
      "outputs": [],
      "source": [
        "maximum_train_sentence_ltngth = 0 # = 9223\n",
        "for sent in lemmanized_train:\n",
        "  maximum_train_sentence_ltngth = max(maximum_train_sentence_ltngth, len(sent))\n",
        "print(maximum_train_sentence_ltngth)\n",
        "\n",
        "maximum_test_sentence_ltngth = 0 # = 8449\n",
        "for sent in lemmanized_test:\n",
        "  maximum_test_sentence_ltngth = max(maximum_test_sentence_ltngth, len(sent))\n",
        "print(maximum_test_sentence_ltngth)\n",
        "\n",
        "\n",
        "def uniq(lst):\n",
        "    last = object()\n",
        "    for item in lst:\n",
        "        if item == last:\n",
        "            continue\n",
        "        yield item\n",
        "        last = item\n",
        "\n",
        "\n",
        "distinct_train_words = list(uniq(sorted(lemmatize_train_tokens, reverse=True)))\n",
        "distinct_test_words = list(uniq(sorted(lemmatize_test_tokens, reverse=True)))\n",
        "sum_lemmatized = list(lemmatize_train_tokens)\n",
        "sum_lemmatized.extend(lemmatize_test_tokens)\n",
        "distinct_all_words = list(uniq(sorted(sum_lemmatized, reverse=True)))\n",
        "\n",
        "print(len(distinct_train_words)) # 24901\n",
        "print(len(distinct_test_words)) # 24797\n",
        "print(len(distinct_all_words)) # 49575"
      ]
    },
    {
      "cell_type": "markdown",
      "metadata": {
        "id": "Ll1y-ue3e-AQ"
      },
      "source": [
        "#Creating data matrix\n",
        "\n",
        "Converting the text of each review (after pre-processing) into a vector form to construct the data\n",
        "matrix"
      ]
    },
    {
      "cell_type": "markdown",
      "metadata": {
        "id": "shXJmrDlUrFg"
      },
      "source": [
        "**Traditional methods (BOW, TF-IDF, etc.)**\n",
        "\n",
        "Using N-grams (1, 3) \n",
        "\n",
        "why? since https://stackabuse.com/python-for-nlp-developing-an-automatic-text-filler-using-n-grams/\n"
      ]
    },
    {
      "cell_type": "code",
      "execution_count": null,
      "metadata": {
        "id": "PGICKoX2OBPr"
      },
      "outputs": [],
      "source": [
        "#  Using sklearn feature vectorizer (Count) to create the required feature vector\n",
        "#  Useful Link: https://stackabuse.com/python-for-nlp-creating-bag-of-words-model-from-scratch/\n",
        "\n",
        "def countVector(traindata, testdata):\n",
        "  CountVec = CountVectorizer(binary=True,ngram_range=(1,3))\n",
        "  ''' stop_words: If None(default), no stop words will be used. max_df can be set to a value in the range [0.7, 1.0) \n",
        "  to automatically detect and filter stop words based on intra corpus document frequency of terms. \n",
        "  max_df = 1 by default '''\n",
        "\n",
        "  train_BOWCV = CountVec.fit_transform(traindata) # This is equivalent to fit followed by transform, but more efficiently implemented.\n",
        "  test_BOWCV = CountVec.transform(testdata)\n",
        "\n",
        "  print('train_BOWCV:',train_BOWCV.shape)\n",
        "  print('test_BOWCV:',test_BOWCV.shape)\n",
        "\n",
        "  return train_BOWCV ,test_BOWCV"
      ]
    },
    {
      "cell_type": "code",
      "execution_count": null,
      "metadata": {
        "id": "AcnV3uWYUonB"
      },
      "outputs": [],
      "source": [
        "#  Using sklearn feature vectorizer (TF-IDF) to create the required feature vector\n",
        "#  Using Link: https://stackabuse.com/python-for-nlp-creating-tf-idf-model-from-scratch/\n",
        "\n",
        "def TfidVector(traindata, testdata):\n",
        "  TfidfVec = TfidfVectorizer(binary=True,ngram_range=(1,3))\n",
        "\n",
        "  train_BOWTFID = TfidfVec.fit_transform(traindata)\n",
        "  test_BOWTFID = TfidfVec.transform(testdata)\n",
        "\n",
        "  print('train_BOWTFID:',train_BOWTFID.shape)\n",
        "  print('test_BOWTFID:',test_BOWTFID.shape)\n",
        "\n",
        "  return train_BOWTFID, test_BOWTFID"
      ]
    },
    {
      "cell_type": "markdown",
      "metadata": {
        "id": "y3FSGYQzhAGk"
      },
      "source": [
        "**Word Embedding**\n",
        "\n",
        "https://stackabuse.com/python-for-nlp-word-embeddings-for-deep-learning-in-keras/\n",
        "\n",
        "Here embedding_size is the size of the embedding vector. In other words, each word in our corpus will be represented as a 60-dimensional vector. The window_size is the size of the number of words occurring before and after the word based on which the word representations will be learned for the word. This might sound tricky, however in the skip-gram model we input a word to the algorithm and the output is the context words. If the window size is 40, for each input there will be 80 outputs: 40 words that occur before the input word and 40 words that occur after the input word. The word embeddings for the input word are learned using these 80 output words.\n",
        "\n",
        "The next hyper-parameter is the min_word, which specifies the minimum frequency of a word in the corpus for which the word representations will be generated. Finally, the most frequently occurring word will be down-sampled by a number specified by the down_sampling attribute."
      ]
    },
    {
      "cell_type": "code",
      "execution_count": null,
      "metadata": {
        "colab": {
          "base_uri": "https://localhost:8080/"
        },
        "id": "OhJEuCHsnbHF",
        "outputId": "89a8450f-7855-4b23-86d5-627f9cb9f1ce"
      },
      "outputs": [
        {
          "output_type": "stream",
          "name": "stderr",
          "text": [
            "Warning : `load_model` does not return WordVectorModel or SupervisedModel any more, but a `FastText` object which is very similar.\n"
          ]
        }
      ],
      "source": [
        "'''fastText can obtain vectors even for out-of-vocabulary (OOV) words, \n",
        "by summing up vectors for its component char-ngrams, \n",
        "provided at least one of the char-ngrams was present in the training data.\n",
        "'''\n",
        "\n",
        "# download pretrained model zipped and unzip it\n",
        "\n",
        "# !wget https://dl.fbaipublicfiles.com/fasttext/vectors-english/crawl-300d-2M-subword.zip\n",
        "# !unzip crawl-300d-2M-subword.zip\n",
        "\n",
        "MAX_LEN = 100\n",
        "\n",
        "pretrained = fasttext.FastText.load_model('Lab3//crawl-300d-2M-subword.bin')\n",
        "\n",
        "def WordEmbedding(lemmatized_data):\n",
        "  # create token-embedding mapping\n",
        "  token = Tokenizer()\n",
        "  token.fit_on_texts(lemmatized_data)\n",
        "  word_index = token.word_index\n",
        "  # convert text to sequence of tokens and pad them to ensure equal length vectors \n",
        "  train_seq_x = sequence.pad_sequences(token.texts_to_sequences(lemmatized_data), maxlen=300)\n",
        "\n",
        "  embedding_matrix = np.zeros((MAX_LEN, 300))\n",
        "  words = []\n",
        "  for word, i in word_index.items():\n",
        "      if i >= MAX_LEN:\n",
        "            continue\n",
        "      embedding_vector = pretrained[word] #embeddings_index.get(word)\n",
        "      words.append(word)\n",
        "      if embedding_vector is not None: # if word in model\n",
        "          embedding_matrix[i] = embedding_vector\n",
        "  return list(np.concatenate(embedding_matrix).flat)#, pretrained\n",
        "    \n"
      ]
    },
    {
      "cell_type": "markdown",
      "metadata": {
        "id": "zRw2B8eM0564"
      },
      "source": [
        "**Applying data matrix**"
      ]
    },
    {
      "cell_type": "markdown",
      "metadata": {
        "id": "81MZaDb-WIkG"
      },
      "source": [
        "# Saving data matricies"
      ]
    },
    {
      "cell_type": "markdown",
      "metadata": {
        "id": "qLI3IuVI-hpp"
      },
      "source": [
        "**For data without no preprocessing count vectorizer**"
      ]
    },
    {
      "cell_type": "code",
      "execution_count": null,
      "metadata": {
        "colab": {
          "base_uri": "https://localhost:8080/"
        },
        "id": "Q5q3xY1nhOk8",
        "outputId": "b1201fe1-b949-4826-f772-3e98b1486586"
      },
      "outputs": [
        {
          "name": "stdout",
          "output_type": "stream",
          "text": [
            "train_BOWCV: (25000, 5165791)\n",
            "test_BOWCV: (25000, 5165791)\n"
          ]
        }
      ],
      "source": [
        "def save_nopreprocessd_cv():\n",
        "  td , testd = get_original_data()\n",
        "  train_nopre_cv, test_nopre_cv = countVector(td , testd)\n",
        "\n",
        "  with open('Lab3//train_nopre_cv.npy', 'wb') as f:\n",
        "      np.save(f, train_nopre_cv)\n",
        "\n",
        "  with open('Lab3//test_nopre_cv.npy', 'wb') as f:\n",
        "      np.save(f, test_nopre_cv)\n",
        "\n",
        "save_nopreprocessd_cv()\n",
        "del save_nopreprocessd_cv"
      ]
    },
    {
      "cell_type": "markdown",
      "metadata": {
        "id": "lIXtt4diDjXj"
      },
      "source": [
        "**For data without no preprocessing tfidf**"
      ]
    },
    {
      "cell_type": "code",
      "execution_count": null,
      "metadata": {
        "colab": {
          "base_uri": "https://localhost:8080/"
        },
        "id": "VneSrcZJnC2a",
        "outputId": "e00502b7-fd5f-402a-c9ba-f2b195f67158"
      },
      "outputs": [
        {
          "name": "stdout",
          "output_type": "stream",
          "text": [
            "train_BOWTFID: (25000, 5165791)\n",
            "test_BOWTFID: (25000, 5165791)\n"
          ]
        }
      ],
      "source": [
        "def save_nopreprocessd_tfidf():\n",
        "  td , testd = get_original_data()\n",
        "  train_tfid, test_tfid = TfidVector(td, testd)\n",
        "\n",
        "  with open('Lab3//train_nopre_tfid.npy', 'wb') as f:\n",
        "      np.save(f, train_tfid )\n",
        "\n",
        "  with open('Lab3//test_nopre_tfid.npy', 'wb') as f:\n",
        "      np.save(f, test_tfid)\n",
        "\n",
        "save_nopreprocessd_tfidf()\n",
        "del save_nopreprocessd_tfidf"
      ]
    },
    {
      "cell_type": "markdown",
      "metadata": {
        "id": "REQFB_JQZs6o"
      },
      "source": [
        "**For data with count vector form**"
      ]
    },
    {
      "cell_type": "code",
      "execution_count": null,
      "metadata": {
        "colab": {
          "base_uri": "https://localhost:8080/"
        },
        "id": "M09U90X8DxS_",
        "outputId": "a4405648-d595-42e5-a871-c59c66b1a050"
      },
      "outputs": [
        {
          "name": "stdout",
          "output_type": "stream",
          "text": [
            "train_BOWCV: (25000, 4515058)\n",
            "test_BOWCV: (25000, 4515058)\n"
          ]
        }
      ],
      "source": [
        "def save_cv():\n",
        "  lemmanized_train = get_lemmanized_test().reshape(-1,).tolist()\n",
        "  lemmanized_test = get_lemmanized_train().reshape(-1,).tolist()\n",
        "\n",
        "  train_cv, test_cv = countVector(lemmanized_train, lemmanized_test)\n",
        "\n",
        "  with open('Lab3//train_cv.npy', 'wb') as f:\n",
        "      np.save(f, train_cv )\n",
        "\n",
        "  with open('Lab3//test_cv.npy', 'wb') as f:\n",
        "      np.save(f, test_cv)\n",
        "\n",
        "save_cv()\n",
        "del save_cv"
      ]
    },
    {
      "cell_type": "markdown",
      "metadata": {
        "id": "D5hFXYp_Zy8A"
      },
      "source": [
        "**For data with TFIDF form**"
      ]
    },
    {
      "cell_type": "code",
      "execution_count": null,
      "metadata": {
        "colab": {
          "base_uri": "https://localhost:8080/"
        },
        "id": "gLdS1aIt1XjQ",
        "outputId": "745692d8-7295-4ca3-b357-64174a900c61"
      },
      "outputs": [
        {
          "name": "stdout",
          "output_type": "stream",
          "text": [
            "train_BOWTFID: (25000, 4515058)\n",
            "test_BOWTFID: (25000, 4515058)\n"
          ]
        }
      ],
      "source": [
        "def save_tfidf():\n",
        "  lemmanized_train = get_lemmanized_test().reshape(-1,).tolist()\n",
        "  lemmanized_test = get_lemmanized_train().reshape(-1,).tolist()\n",
        "\n",
        "  train_tfid, test_tfid = TfidVector(lemmanized_train, lemmanized_test)\n",
        "\n",
        "  with open('Lab3//train_tfid.npy', 'wb') as f:\n",
        "      np.save(f, train_tfid)\n",
        "\n",
        "  with open('Lab3//test_tfid.npy', 'wb') as f:\n",
        "      np.save(f, test_tfid)\n",
        "\n",
        "save_tfidf()\n",
        "del save_tfidf"
      ]
    },
    {
      "cell_type": "markdown",
      "metadata": {
        "id": "POZS38AUZ1iR"
      },
      "source": [
        "**For data with embedding matrix form**"
      ]
    },
    {
      "cell_type": "code",
      "execution_count": null,
      "metadata": {
        "colab": {
          "base_uri": "https://localhost:8080/"
        },
        "id": "VypcUaSKjc99",
        "outputId": "ddc477fc-33e2-448c-d6cc-f827b35e7b0d"
      },
      "outputs": [
        {
          "output_type": "stream",
          "name": "stderr",
          "text": [
            "Warning : `load_model` does not return WordVectorModel or SupervisedModel any more, but a `FastText` object which is very similar.\n"
          ]
        }
      ],
      "source": [
        "sz = 25000\n",
        "\n",
        "train_embedding_matrix = np.zeros((sz, MAX_LEN * 300))\n",
        "\n",
        "lemmatize_train_tokens = get_lemmatize_train_tokens().reshape(-1,).tolist()\n",
        "\n",
        "for i in range (0, sz):\n",
        "  train_embedding_submatrix = WordEmbedding(lemmatize_train_tokens[0][i])\n",
        "  train_embedding_matrix[i] = train_embedding_submatrix\n",
        "\n",
        "del lemmatize_train_tokens\n",
        "del train_embedding_submatrix\n",
        "del pretrained\n",
        "\n",
        "with open('train_embedding_matrix.npy', 'wb') as f:\n",
        "    np.save(f, train_embedding_matrix)\n",
        "  \n",
        "del train_embedding_matrix\n",
        "\n",
        "\n",
        "pretrained = fasttext.FastText.load_model('Lab3//crawl-300d-2M-subword.bin')\n",
        "\n",
        "\n",
        "test_embedding_matrix = np.zeros((sz, MAX_LEN * 300))\n",
        "\n",
        "lemmatize_test_tokens = get_lemmatize_test_tokens().reshape(-1,).tolist()\n",
        "\n",
        "for i in range (0, sz):\n",
        "  test_embedding_submatrix = WordEmbedding(lemmatize_test_tokens[0][i])\n",
        "  test_embedding_matrix[i] = test_embedding_submatrix\n",
        "\n",
        "del lemmatize_test_tokens\n",
        "del test_embedding_submatrix\n",
        "del pretrained\n",
        "\n",
        "with open('test_embedding_matrix.npy', 'wb') as f:\n",
        "    np.save(f, test_embedding_matrix)\n",
        "\n",
        "del test_embedding_matrix"
      ]
    },
    {
      "cell_type": "markdown",
      "metadata": {
        "id": "pT0wEPcHWeZt"
      },
      "source": [
        "# Classification"
      ]
    },
    {
      "cell_type": "markdown",
      "metadata": {
        "id": "mYgys1mZSAKV"
      },
      "source": [
        "# Logistic Regression"
      ]
    },
    {
      "cell_type": "markdown",
      "metadata": {
        "id": "KYIW8O7a-cO0"
      },
      "source": [
        "**Without preprocessing**\n",
        "\n",
        "---\n",
        "**For CV**\n",
        "\n",
        "\n",
        "> 1. Accuracy for C=0.01: 0.8308\n",
        "> 2. Accuracy for C=0.05: 0.8512\n",
        "> 3. Accuracy for C=0.25: 0.8708\n",
        "> 4. Accuracy for C=0.5: 0.8776\n",
        "> 5. Accuracy for C=1: 0.8808\n",
        "\n",
        "                              Accuracy of LR on test data C=1: 0.88864\n",
        "\n",
        "**For TFIDF**\n",
        "\n",
        "\n",
        "> 1. Accuracy for C=0.01: 0.8456\n",
        "> 2. Accuracy for C=0.05: 0.8588\n",
        "> 3. Accuracy for C=0.25: 0.8724\n",
        "> 4. Accuracy for C=0.5: 0.8788\n",
        "> 5. Accuracy for C=1: 0.8904\n",
        "\n",
        "                            Accuracy of LR on test data C=1: 0.88988\n",
        "\n",
        "\n",
        "**With Preprocessing**\n",
        "\n",
        "---\n",
        "\n",
        "**For CV**\n",
        "\n",
        "> 1.   Accuracy for C=0.01: 0.8764\n",
        "> 2.   Accuracy for C=0.05: 0.8796\n",
        "> 3.   Accuracy for C=0.25: 0.8824\n",
        "> 4.   Accuracy for C=0.5: 0.8824\n",
        "> 5.   Accuracy for C=1: 0.8832\n",
        "\n",
        "                                Accuracy of LR on test data C=1: 0.88448\n",
        "\n",
        "**For TFIDF**\n",
        "\n",
        "> 1.  Accuracy for C=0.01: 0.8396\n",
        "> 2.  Accuracy for C=0.05: 0.8504\n",
        "> 3.  Accuracy for C=0.25: 0.8552\n",
        "> 4.  Accuracy for C=0.5: 0.8636\n",
        "> 5.  Accuracy for C=1: 0.8724\n",
        "\n",
        "                              Accuracy of LR on test data C=1: 0.875\n",
        "\n",
        "**For embedding with maximum length = 10**\n",
        "\n",
        "> 1.  Accuracy for C=0.01: 0.656\n",
        "> 2.  Accuracy for C=0.05: 0.6828\n",
        "> 3.  Accuracy for C=0.25: 0.696\n",
        "> 4.  Accuracy for C=1: 0.6904\n",
        "\n",
        "                              Accuracy of LR on test data C=0.5: 0.69536\n",
        "\n",
        "**For embedding with maximum length = 50**\n",
        "\n",
        "\n",
        "> 1. Accuracy for C=0.01: 0.7584\n",
        "> 2. Accuracy for C=0.05: 0.7824\n",
        "> 3. Accuracy for C=0.25: 0.7916\n",
        "> 4. Accuracy for C=0.5: 0.7868\n",
        "> 5. Accuracy for C=1: 0.776\n",
        "\n",
        "                          Accuracy of LR on test data C=0.25: 0.7726709068362735\n",
        "\n",
        "\n",
        "**For embedding with maximum length = 70**\n",
        "\n",
        "\n",
        "> 1. Accuracy for C=0.01: 0.7496\n",
        "> 2. Accuracy for C=0.05: 0.7824\n",
        "> 3. Accuracy for C=0.25: 0.806\n",
        "> 4. Accuracy for C=0.5: 0.7908\n",
        "> 5. Accuracy for C=1: 0.7952\n",
        "\n",
        "                          Accuracy of LR on test data C=0.25: 0.78484\n",
        "\n",
        "**For embedding with maximum length = 100**\n",
        "\n",
        ">1. For embedding\n",
        "2. Accuracy for C=0.01: 0.7492\n",
        "3. Accuracy for C=0.05: 0.7876\n",
        "4. Accuracy for C=0.25: 0.798\n",
        "5. Accuracy for C=0.5: 0.7944\n",
        "\n",
        "                        Accuracy of LR on test data C=0.25: 0.7914"
      ]
    },
    {
      "cell_type": "code",
      "execution_count": null,
      "metadata": {
        "id": "IJy5bkFL8of8"
      },
      "outputs": [],
      "source": [
        "def testLR(x_train, x_test, y_train, y_test, c):\n",
        "  lr = LogisticRegression(C=c)\n",
        "  lr.fit(x_train, y_train)\n",
        "  accuracy = accuracy_score(y_test, lr.predict(x_test))\n",
        "  return accuracy\n",
        "\n",
        "def logstReg(trainBOW, trainTarget, testBOW, testTarget, embedding=False):\n",
        "  if (embedding):\n",
        "      x_train, x_val, y_train, y_val = train_test_split(trainBOW, trainTarget, train_size = 0.9) # Split data to validation and training  \n",
        "  else:\n",
        "      x_train, x_val, y_train, y_val = train_test_split(trainBOW.reshape(-1,).tolist()[0], trainTarget, train_size = 0.9) # Split data to validation and training\n",
        "  bestAcc = 0; bestC = 0 # variables for keeping best c and best accuracy\n",
        "  for c in [0.01, 0.05, 0.25, 0.5, 1]:  # Iterating on different c's for hyperparameter tunning\n",
        "    acc = testLR(x_train, x_val, y_train, y_val, c) # Doing training and testing\n",
        "    if (acc > bestAcc):\n",
        "      bestC = c\n",
        "      bestAcc = acc\n",
        "    print (\"Accuracy for C=%s: %s\" % (c, acc))\n",
        "  del x_train; del x_val; del y_train; del  y_val\n",
        "  if (embedding):\n",
        "    accuracy = testLR(trainBOW, testBOW, trainTarget, testTarget, bestC)\n",
        "  else:\n",
        "    train = csr_matrix(trainBOW.all())\n",
        "    test = csr_matrix(testBOW.all())\n",
        "    accuracy = testLR(train, test, trainTarget, testTarget, bestC)\n",
        "  print(\"Accuracy of LR on test data C=%s: %s\" % (bestC,accuracy))\n",
        "  del trainBOW; del trainTarget; del testBOW; del  testTarget\n",
        "  return accuracy\n"
      ]
    },
    {
      "cell_type": "code",
      "execution_count": null,
      "metadata": {
        "colab": {
          "base_uri": "https://localhost:8080/"
        },
        "id": "kZZ8wf2MBgrt",
        "outputId": "26fa1471-3f67-4652-a503-0a035ed18f75"
      },
      "outputs": [
        {
          "output_type": "stream",
          "name": "stdout",
          "text": [
            "For embedding\n",
            "Accuracy for C=0.01: 0.7492\n",
            "Accuracy for C=0.05: 0.7876\n",
            "Accuracy for C=0.25: 0.798\n"
          ]
        },
        {
          "output_type": "stream",
          "name": "stderr",
          "text": [
            "/usr/local/lib/python3.7/dist-packages/sklearn/linear_model/_logistic.py:818: ConvergenceWarning: lbfgs failed to converge (status=1):\n",
            "STOP: TOTAL NO. of ITERATIONS REACHED LIMIT.\n",
            "\n",
            "Increase the number of iterations (max_iter) or scale the data as shown in:\n",
            "    https://scikit-learn.org/stable/modules/preprocessing.html\n",
            "Please also refer to the documentation for alternative solver options:\n",
            "    https://scikit-learn.org/stable/modules/linear_model.html#logistic-regression\n",
            "  extra_warning_msg=_LOGISTIC_SOLVER_CONVERGENCE_MSG,\n"
          ]
        },
        {
          "output_type": "stream",
          "name": "stdout",
          "text": [
            "Accuracy for C=0.5: 0.7944\n"
          ]
        },
        {
          "output_type": "stream",
          "name": "stderr",
          "text": [
            "/usr/local/lib/python3.7/dist-packages/sklearn/linear_model/_logistic.py:818: ConvergenceWarning: lbfgs failed to converge (status=1):\n",
            "STOP: TOTAL NO. of ITERATIONS REACHED LIMIT.\n",
            "\n",
            "Increase the number of iterations (max_iter) or scale the data as shown in:\n",
            "    https://scikit-learn.org/stable/modules/preprocessing.html\n",
            "Please also refer to the documentation for alternative solver options:\n",
            "    https://scikit-learn.org/stable/modules/linear_model.html#logistic-regression\n",
            "  extra_warning_msg=_LOGISTIC_SOLVER_CONVERGENCE_MSG,\n"
          ]
        },
        {
          "output_type": "stream",
          "name": "stdout",
          "text": [
            "Accuracy for C=1: 0.7868\n"
          ]
        },
        {
          "output_type": "stream",
          "name": "stderr",
          "text": [
            "/usr/local/lib/python3.7/dist-packages/sklearn/linear_model/_logistic.py:818: ConvergenceWarning: lbfgs failed to converge (status=1):\n",
            "STOP: TOTAL NO. of ITERATIONS REACHED LIMIT.\n",
            "\n",
            "Increase the number of iterations (max_iter) or scale the data as shown in:\n",
            "    https://scikit-learn.org/stable/modules/preprocessing.html\n",
            "Please also refer to the documentation for alternative solver options:\n",
            "    https://scikit-learn.org/stable/modules/linear_model.html#logistic-regression\n",
            "  extra_warning_msg=_LOGISTIC_SOLVER_CONVERGENCE_MSG,\n"
          ]
        },
        {
          "output_type": "stream",
          "name": "stdout",
          "text": [
            "Accuracy of LR on test data C=0.25: 0.7914\n"
          ]
        }
      ],
      "source": [
        "target = [1 if i < 12500 else 0 for i in range(25000)]\n",
        "\n",
        "def cvLR():\n",
        "  print('For CV')\n",
        "  train, test = get_cv()\n",
        "  logstReg(train, target, test, target)\n",
        "\n",
        "def tfidLR():\n",
        "  print('For TFIDF')\n",
        "  train, test = get_tfidf()\n",
        "  logstReg(train, target, test, target)\n",
        "\n",
        "def noprocess_cvLR():\n",
        "  print('For no processing with cv')\n",
        "  train, test = get_without_preprocessing_cv()\n",
        "  logstReg(train, target, test, target)\n",
        "\n",
        "def noprocess_TFIDFLR():\n",
        "  print('For no processing with TFIDF')\n",
        "  train, test = get_without_preprocessing_tfid()\n",
        "  logstReg(train, target, test, target)\n",
        "\n",
        "def embeddingLR():\n",
        "  print('For embedding')\n",
        "  train = get_embedding_train()\n",
        "  test = get_embedding_test()\n",
        "  logstReg(train, target, test, target, True)\n",
        "\n",
        "cvLR()\n",
        "del cvLR\n",
        "\n",
        "tfidLR()\n",
        "del tfidLR\n",
        "\n",
        "noprocess_cvLR()\n",
        "del noprocess_cvLR\n",
        "\n",
        "noprocess_TFIDFLR()\n",
        "del noprocess_TFIDFLR\n",
        "\n",
        "embeddingLR()\n",
        "del embeddingLR\n",
        "\n",
        "del target"
      ]
    },
    {
      "cell_type": "markdown",
      "metadata": {
        "id": "xz4SdJD_6tr6"
      },
      "source": [
        "# Linear SVM"
      ]
    },
    {
      "cell_type": "markdown",
      "metadata": {
        "id": "GsnoBsksNYTM"
      },
      "source": [
        "**Without preprocessing**\n",
        "\n",
        "---\n",
        "**Count Vector**\n",
        "\n",
        ">1. Accuracy for C=0.0005: 0.892\n",
        "2. Accuracy for C=0.0004: 0.8864\n",
        "3. Accuracy for C=0.0003: 0.892\n",
        "4. Accuracy for C=0.0002: 0.8908\n",
        "5. Accuracy for C=0.0001: 0.886\n",
        "\n",
        "                          Accuracy of SVM on test data C=0.0005: 0.89508\n",
        "\n",
        "**For TFIDF**\n",
        "\n",
        ">1. Accuracy for C=0.0005: 0.834\n",
        "2. Accuracy for C=0.0004: 0.828\n",
        "3. Accuracy for C=0.0003: 0.8528\n",
        "4. Accuracy for C=0.0002: 0.8776\n",
        "5. Accuracy for C=0.0001: 0.8924\n",
        "\n",
        "                        Accuracy of SVM on test data C=0.0001: 0.88104\n",
        "\n",
        "---\n",
        "\n",
        "**With preprocessing**\n",
        "\n",
        "---\n",
        "\n",
        "**Count Vector**\n",
        "\n",
        "\n",
        ">1. Accuracy for C=0.0005: 0.9024\n",
        "2. Accuracy for C=0.0004: 0.9124\n",
        "3. Accuracy for C=0.0003: 0.9096\n",
        "4. Accuracy for C=0.0002: 0.9064\n",
        "5. Accuracy for C=0.0001: 0.9048\n",
        "\n",
        "                          Accuracy of SVM on test data C=0.0004: 0.88204\n",
        "\n",
        "**For TFIDF**\n",
        "\n",
        ">1. Accuracy for C=0.0005: 0.834\n",
        "2. Accuracy for C=0.0004: 0.828\n",
        "3. Accuracy for C=0.0003: 0.8528\n",
        "4. Accuracy for C=0.0002: 0.8776\n",
        "5. Accuracy for C=0.0001: 0.8924\n",
        "\n",
        "                          Accuracy of SVM on test data C=0.0001: 0.88104\n",
        "\n",
        "**For embedding**\n",
        "\n",
        "\n",
        ">1. Accuracy for C=0.0001: 0.7012\n",
        "2. Accuracy for C=5e-05: 0.7008\n",
        "3. Accuracy for C=0.025: 0.554\n",
        "4. Accuracy for C=0.5: 0.5132\n",
        "5. Accuracy for C=1: 0.5132\n",
        "\n",
        "                        Accuracy of SVM on test data C=0.0001: 0.69304\n",
        "\n",
        "\n",
        "**For embedding max len = 50**\n",
        "\n",
        ">1. Accuracy for C=0.0005: 0.76\n",
        "2. Accuracy for C=0.0004: 0.7592\n",
        "3. Accuracy for C=0.0003: 0.7532\n",
        "4. Accuracy for C=0.0002: 0.744\n",
        "5. Accuracy for C=0.0001: 0.744\n",
        "\n",
        "                    Accuracy of SVM on test data C=0.0005: 0.7687107484299373\n",
        "\n",
        "**For embedding max len = 70**\n",
        "\n",
        ">1. Accuracy for C=0.0005: 0.7876\n",
        "2. Accuracy for C=0.0004: 0.7872\n",
        "3. Accuracy for C=0.0003: 0.7788\n",
        "4. Accuracy for C=0.0002: 0.7744\n",
        "5. Accuracy for C=0.0001: 0.7576\n",
        "\n",
        "                    Accuracy of SVM on test data C=0.0005: 0.78204\n",
        "\n"
      ]
    },
    {
      "cell_type": "code",
      "execution_count": null,
      "metadata": {
        "id": "pJg1PiB0RFdr"
      },
      "outputs": [],
      "source": [
        "def testSVM(x_train, x_test, y_train, y_test, c):\n",
        "  model = SGDClassifier(random_state=42,alpha=c)\n",
        "  model.fit(x_train, y_train)\n",
        "  accuracy = accuracy_score(y_test, model.predict(x_test))\n",
        "  return accuracy\n",
        "\n",
        "def svm_tuning(trainBOW, trainTarget, testBOW, testTarget, embedding=False):\n",
        "    if (embedding):\n",
        "      x_train, x_val, y_train, y_val = train_test_split(trainBOW, trainTarget, train_size = 0.9) # Split data to validation and training  \n",
        "    else:\n",
        "      x_train, x_val, y_train, y_val = train_test_split(trainBOW.reshape(-1,).tolist()[0], trainTarget, train_size = 0.9) # Split data to validation and training\n",
        "\n",
        "    bestAcc = 0; bestC = 0 # variables for keeping best c and best accuracy\n",
        "    for c in [0.0005, 0.0004, 0.0003, 0.0002, 0.0001]:  # Iterating on different c's for hyperparameter tunning\n",
        "      acc = testSVM(x_train, x_val, y_train, y_val, c) # Doing training and testing\n",
        "      if (acc > bestAcc):\n",
        "        bestC = c\n",
        "        bestAcc = acc\n",
        "      print (\"Accuracy for C=%s: %s\" % (c, acc))\n",
        "    del x_train; del x_val; del y_train; del  y_val\n",
        "    if (embedding):\n",
        "      accuracy = testSVM(trainBOW, testBOW, trainTarget, testTarget, bestC)\n",
        "    else:\n",
        "      train = csr_matrix(trainBOW.all())\n",
        "      test = csr_matrix(testBOW.all())\n",
        "      accuracy = testSVM(train, test, trainTarget, testTarget, bestC)\n",
        "    print(\"Accuracy of SVM on test data C=%s: %s\" % (bestC,accuracy))\n",
        "    del trainBOW; del trainTarget; del testBOW; del  testTarget\n",
        "    return accuracy"
      ]
    },
    {
      "cell_type": "code",
      "execution_count": null,
      "metadata": {
        "id": "Dnuf-9UsNBqk"
      },
      "outputs": [],
      "source": [
        "from scipy.sparse import csr_matrix\n",
        "\n",
        "target = [1 if i < 12500 else 0 for i in range(25000)]\n",
        "\n",
        "def cvSVM():\n",
        "  print('For CV')\n",
        "  train, test = get_cv()\n",
        "  svm_tuning(train, target, test, target)\n",
        "\n",
        "def tfidSVM():\n",
        "  print('For TFIDF')\n",
        "  train, test = get_tfidf()\n",
        "  svm_tuning(train, target, test, target)\n",
        "\n",
        "def noprocess_CVSVM():\n",
        "  print('For no processing with cv')\n",
        "  train, test = get_without_preprocessing_cv()\n",
        "  svm_tuning(train, target, test, target)\n",
        "\n",
        "def noprocess_TFIDFSVM():\n",
        "  print('For no processing with TFIDF')\n",
        "  train, test = get_without_preprocessing_tfid()\n",
        "  svm_tuning(train, target, test, target)\n",
        "\n",
        "def embeddingSVM():\n",
        "  print('For embedding')\n",
        "  train = get_embedding_train()\n",
        "  test = get_embedding_test()\n",
        "  svm_tuning(train, target, test, True)\n",
        "\n",
        "cvSVM()\n",
        "del cvSVM\n",
        "\n",
        "tfidSVM()\n",
        "del tfidSVM\n",
        "\n",
        "noprocess_CVSVM()\n",
        "del noprocess_CVSVM\n",
        "\n",
        "noprocess_TFIDFSVM()\n",
        "del noprocess_TFIDFSVM\n",
        "\n",
        "embeddingSVM()\n",
        "del embeddingSVM\n",
        "\n",
        "del testSVM\n",
        "del svm_tuning\n",
        "\n",
        "del target"
      ]
    },
    {
      "cell_type": "markdown",
      "metadata": {
        "id": "9aKnsyOs7kAb"
      },
      "source": [
        "# Naive Bayes"
      ]
    },
    {
      "cell_type": "markdown",
      "metadata": {
        "id": "wSWapzp1aB4E"
      },
      "source": [
        "**Before preprocessing**\n",
        "\n",
        "---\n",
        "**For Count Vectorizer**\n",
        "\n",
        ">1. Accuracy for C=100: 0.8688\n",
        "2. Accuracy for C=200: 0.854\n",
        "3. Accuracy for C=400: 0.8368\n",
        "4. Accuracy for C=600: 0.8232\n",
        "5. Accuracy for C=800: 0.8124\n",
        "\n",
        "                          Accuracy of NB on test data C=100: 0.84852\n",
        "\n",
        "**For TFIDF**\n",
        "\n",
        ">1. Accuracy for C=100: 0.8644\n",
        "2. Accuracy for C=200: 0.8452\n",
        "3. Accuracy for C=400: 0.8208\n",
        "4. Accuracy for C=600: 0.8048\n",
        "5. Accuracy for C=800: 0.7928\n",
        "\n",
        "                        Accuracy of NB on test data C=100: 0.8352\n",
        "\n",
        "**After preprocessing**\n",
        "\n",
        "---\n",
        "\n",
        "**For Count Vectorizer**\n",
        "\n",
        ">1. Accuracy for C=100: 0.8408\n",
        "2. Accuracy for C=200: 0.8296\n",
        "3. Accuracy for C=400: 0.8164\n",
        "4. Accuracy for C=600: 0.8084\n",
        "5. Accuracy for C=800: 0.8008\n",
        "\n",
        "                        Accuracy of NB on test data C=100: 0.8454\n",
        "\n",
        "**For TFIDF**\n",
        "\n",
        "\n",
        "\n",
        ">1. Accuracy for C=100: 0.8552\n",
        "2. Accuracy for C=200: 0.8368\n",
        "3. Accuracy for C=400: 0.818\n",
        "4. Accuracy for C=600: 0.81\n",
        "5. Accuracy for C=800: 0.8028\n",
        "\n",
        "                      Accuracy of NB on test data C=100: 0.8464\n",
        "\n",
        "\n",
        "**For embedding**\n",
        "\n",
        "> 1. Accuracy for C=100: 0.6308\n",
        "2. Accuracy for C=200: 0.6332\n",
        "3. Accuracy for C=400: 0.6276\n",
        "4. Accuracy for C=600: 0.622\n",
        "5. Accuracy for C=800: 0.6184\n",
        "\n",
        "                    Accuracy of NB on test data C=200: 0.61552\n",
        "\n",
        "**For embedding with max len = 50**\n",
        "\n",
        ">1. Accuracy for C=100: 0.6728\n",
        "2. Accuracy for C=200: 0.6732\n",
        "3. Accuracy for C=400: 0.6768\n",
        "4. Accuracy for C=600: 0.6808\n",
        "5. Accuracy for C=800: 0.68\n",
        "\n",
        "               Accuracy of NB on test data C=600: 0.6446257850314012"
      ]
    },
    {
      "cell_type": "code",
      "execution_count": null,
      "metadata": {
        "id": "oXOQ6uIR7ZOD"
      },
      "outputs": [],
      "source": [
        "def testNB(x_train, x_test, y_train, y_test, c):\n",
        "  mnb=MultinomialNB(alpha=c)\n",
        "  mnb.fit(x_train, y_train)\n",
        "  accuracy = accuracy_score(y_test, mnb.predict(x_test))\n",
        "  return accuracy\n",
        "\n",
        "def NaiveBayes(trainBOW, trainTarget, testBOW, testTarget, embedding=False):\n",
        "  if (embedding):\n",
        "      x_train, x_val, y_train, y_val = train_test_split(trainBOW, trainTarget, train_size = 0.9) # Split data to validation and training  \n",
        "  else:\n",
        "      x_train, x_val, y_train, y_val = train_test_split(trainBOW.reshape(-1,).tolist()[0], trainTarget, train_size = 0.9) # Split data to validation and training\n",
        "  bestAcc = 0; bestC = 0 # variables for keeping best c and best accuracy\n",
        "  for c in [100,200, 400, 600, 800]:  # Iterating on different c's for hyperparameter tunning\n",
        "    acc = testNB(x_train, x_val, y_train, y_val, c) # Doing training and testing\n",
        "    if (acc > bestAcc):\n",
        "      bestC = c\n",
        "      bestAcc = acc\n",
        "    print (\"Accuracy for C=%s: %s\" % (c, acc))\n",
        "  del x_train; del x_val; del y_train; del  y_val\n",
        "  if (embedding):\n",
        "    accuracy = testNB(trainBOW, testBOW, trainTarget, testTarget, bestC)\n",
        "  else:\n",
        "    train = csr_matrix(trainBOW.all())\n",
        "    test = csr_matrix(testBOW.all())\n",
        "    accuracy = testNB(train, test, trainTarget, testTarget, bestC)\n",
        "  print(\"Accuracy of NB on test data C=%s: %s\" % (bestC,accuracy))\n",
        "  del trainBOW; del trainTarget; del testBOW; del  testTarget\n",
        "  return accuracy\n"
      ]
    },
    {
      "cell_type": "code",
      "execution_count": null,
      "metadata": {
        "colab": {
          "base_uri": "https://localhost:8080/",
          "height": 391
        },
        "id": "ZQ9JUkc8QdCu",
        "outputId": "c22ba225-ddd9-41a5-ce3b-248ae59a65f0"
      },
      "outputs": [
        {
          "output_type": "stream",
          "name": "stdout",
          "text": [
            "For embedding\n"
          ]
        },
        {
          "output_type": "error",
          "ename": "UnboundLocalError",
          "evalue": "ignored",
          "traceback": [
            "\u001b[0;31m---------------------------------------------------------------------------\u001b[0m",
            "\u001b[0;31mUnboundLocalError\u001b[0m                         Traceback (most recent call last)",
            "\u001b[0;32m<ipython-input-13-f51f98f9a268>\u001b[0m in \u001b[0;36m<module>\u001b[0;34m()\u001b[0m\n\u001b[1;32m     61\u001b[0m \u001b[0;31m# del noprocess_TFIDFNB\u001b[0m\u001b[0;34m\u001b[0m\u001b[0;34m\u001b[0m\u001b[0;34m\u001b[0m\u001b[0m\n\u001b[1;32m     62\u001b[0m \u001b[0;34m\u001b[0m\u001b[0m\n\u001b[0;32m---> 63\u001b[0;31m \u001b[0membeddingNB\u001b[0m\u001b[0;34m(\u001b[0m\u001b[0;34m)\u001b[0m\u001b[0;34m\u001b[0m\u001b[0;34m\u001b[0m\u001b[0m\n\u001b[0m\u001b[1;32m     64\u001b[0m \u001b[0;32mdel\u001b[0m \u001b[0membeddingNB\u001b[0m\u001b[0;34m\u001b[0m\u001b[0;34m\u001b[0m\u001b[0m\n\u001b[1;32m     65\u001b[0m \u001b[0;34m\u001b[0m\u001b[0m\n",
            "\u001b[0;32m<ipython-input-13-f51f98f9a268>\u001b[0m in \u001b[0;36membeddingNB\u001b[0;34m()\u001b[0m\n\u001b[1;32m     42\u001b[0m   \u001b[0mprint\u001b[0m\u001b[0;34m(\u001b[0m\u001b[0;34m'For embedding'\u001b[0m\u001b[0;34m)\u001b[0m\u001b[0;34m\u001b[0m\u001b[0;34m\u001b[0m\u001b[0m\n\u001b[1;32m     43\u001b[0m   \u001b[0;31m# train = get_embedding_train()\u001b[0m\u001b[0;34m\u001b[0m\u001b[0;34m\u001b[0m\u001b[0;34m\u001b[0m\u001b[0m\n\u001b[0;32m---> 44\u001b[0;31m   \u001b[0mX_train\u001b[0m \u001b[0;34m=\u001b[0m \u001b[0mscaler\u001b[0m\u001b[0;34m.\u001b[0m\u001b[0mfit_transform\u001b[0m\u001b[0;34m(\u001b[0m\u001b[0mcsr_matrix\u001b[0m\u001b[0;34m(\u001b[0m\u001b[0mtrain_embedding_matrix\u001b[0m\u001b[0;34m.\u001b[0m\u001b[0mall\u001b[0m\u001b[0;34m(\u001b[0m\u001b[0;34m)\u001b[0m\u001b[0;34m)\u001b[0m\u001b[0;34m)\u001b[0m\u001b[0;34m\u001b[0m\u001b[0;34m\u001b[0m\u001b[0m\n\u001b[0m\u001b[1;32m     45\u001b[0m   \u001b[0;32mdel\u001b[0m \u001b[0;34m(\u001b[0m\u001b[0mtrain_embedding_matrix\u001b[0m\u001b[0;34m)\u001b[0m\u001b[0;34m\u001b[0m\u001b[0;34m\u001b[0m\u001b[0m\n\u001b[1;32m     46\u001b[0m   \u001b[0;31m# test = get_embedding_test()\u001b[0m\u001b[0;34m\u001b[0m\u001b[0;34m\u001b[0m\u001b[0;34m\u001b[0m\u001b[0m\n",
            "\u001b[0;31mUnboundLocalError\u001b[0m: local variable 'train_embedding_matrix' referenced before assignment"
          ]
        }
      ],
      "source": [
        "scaler = MaxAbsScaler()\n",
        "\n",
        "target = [1 if i < 12500 else 0 for i in range(25000)]\n",
        "\n",
        "def cvNB():\n",
        "  print('For CV')\n",
        "  train, test = get_cv()\n",
        "  X_train = scaler.fit_transform(csr_matrix(train.all()))\n",
        "  del (train)\n",
        "  X_test = scaler.fit_transform(csr_matrix(test.all()))\n",
        "  del (test)\n",
        "  NaiveBayes(X_train, target, X_test, target)\n",
        "\n",
        "def tfidNB():\n",
        "  print('For TFIDF')\n",
        "  train, test = get_tfidf()\n",
        "  X_train = scaler.fit_transform(csr_matrix(train.all()))\n",
        "  del (train)\n",
        "  X_test = scaler.fit_transform(csr_matrix(test.all()))\n",
        "  del (test)\n",
        "  NaiveBayes(X_train, target, X_test, target)\n",
        "\n",
        "def noprocess_CVNB():\n",
        "  print('For no processing with cv')\n",
        "  train, test = get_without_preprocessing_cv()\n",
        "  X_train = scaler.fit_transform(csr_matrix(train.all()))\n",
        "  del (train)\n",
        "  X_test = scaler.fit_transform(csr_matrix(test.all()))\n",
        "  del (test)\n",
        "  NaiveBayes(X_train, target, X_test, target)\n",
        "\n",
        "def noprocess_TFIDFNB():\n",
        "  print('For no processing with TFIDF')\n",
        "  train, test = get_without_preprocessing_tfid()\n",
        "  X_train = scaler.fit_transform(csr_matrix(train.all()))\n",
        "  del (train)\n",
        "  X_test = scaler.fit_transform(csr_matrix(test.all()))\n",
        "  del (test)\n",
        "  NaiveBayes(X_train, target, X_test, target)\n",
        "\n",
        "def embeddingNB():\n",
        "  print('For embedding')\n",
        "  train = get_embedding_train()\n",
        "  X_train = scaler.fit_transform(csr_matrix(train.all()))\n",
        "  del (train)\n",
        "  test = get_embedding_test()\n",
        "  X_test = scaler.fit_transform(csr_matrix(test.all()))\n",
        "  del (test)\n",
        "  NaiveBayes(X_train, target, X_test, target, True)\n",
        "\n",
        "cvNB()\n",
        "del cvNB\n",
        "\n",
        "tfidNB()\n",
        "del tfidNB\n",
        "\n",
        "noprocess_CVNB()\n",
        "del noprocess_CVNB\n",
        "\n",
        "noprocess_TFIDFNB()\n",
        "del noprocess_TFIDFNB\n",
        "\n",
        "embeddingNB()\n",
        "del embeddingNB\n",
        "\n",
        "del scaler\n",
        "\n",
        "del target"
      ]
    },
    {
      "cell_type": "markdown",
      "metadata": {
        "id": "N-unUFYR7p9K"
      },
      "source": [
        "# Random Forests\n",
        "\n",
        "n_estimatorsint ==> The number of trees in the forest\n",
        "\n",
        "random_state ==> Controls both the randomness of the bootstrapping of the samples used when building trees\n",
        "\n",
        "n_jobs ==> The number of jobs to run in parallel,-1 means using all processors"
      ]
    },
    {
      "cell_type": "markdown",
      "source": [
        "**Before prepocessing**\n",
        "\n",
        "---\n",
        "**For Count Vector**\n",
        ">1. Accuracy for C=100: 0.8068\n",
        "2. Accuracy for C=200: 0.822\n",
        "3. Accuracy for C=400: 0.8412\n",
        "4. Accuracy for C=600: 0.8488\n",
        "5. Accuracy for C=800: 0.8488\n",
        "\n",
        "                      Accuracy of LR on test data C=600: 0.84468\n",
        "\n",
        "**For TFID**\n",
        "\n",
        ">1. Accuracy for C=100: 0.8\n",
        "2. Accuracy for C=200: 0.818\n",
        "3. Accuracy for C=400: 0.8308\n",
        "4. Accuracy for C=600: 0.8364\n",
        "5. Accuracy for C=800: 0.8428\n",
        "\n",
        "                        Accuracy of LR on test data C=: 0.83828\n",
        "\n",
        "**After preprocessing**\n",
        "\n",
        "---\n",
        "\n",
        "**For CV**\n",
        ">1. Accuracy for C=100: 0.7696\n",
        "2. Accuracy for C=200: 0.8068\n",
        "3. Accuracy for C=400: 0.8284\n",
        "4. Accuracy for C=600: 0.8344\n",
        "5. Accuracy for C=800: 0.8424\n",
        "\n",
        "                        Accuracy of LR on test data C=800: 0.8384\n",
        "\n",
        "**For TFIDF**\n",
        ">1. Accuracy for C=100: 0.782\n",
        "2. Accuracy for C=200: 0.8032\n",
        "3. Accuracy for C=400: 0.8228\n",
        "4. Accuracy for C=600: 0.8328\n",
        "5. Accuracy for C=800: 0.8356\n",
        "\n",
        "                        Accuracy of LR on test data C=800: 0.83692\n",
        "\n",
        "**For embedding with maximum length = 50**\n",
        "\n",
        ">1. Accuracy for C=100: 0.656\n",
        "2. Accuracy for C=200: 0.6768\n",
        "3. Accuracy for C=400: 0.6764\n",
        "4. Accuracy for C=600: 0.6836\n",
        "5. Accuracy for C=800: 0.6868\n",
        "\n",
        "                        Accuracy of LR on test data C=800: 0.67272"
      ],
      "metadata": {
        "id": "zFvmK9ESdDHJ"
      }
    },
    {
      "cell_type": "code",
      "execution_count": null,
      "metadata": {
        "id": "v7iBec-h6xcE"
      },
      "outputs": [],
      "source": [
        "def testRF(x_train, x_test, y_train, y_test, c):\n",
        "  model = RandomForestClassifier(n_estimators=c,max_depth=10,min_samples_leaf=0.001,random_state=100,n_jobs=-1)\n",
        "  model.fit(x_train, y_train)\n",
        "  accuracy = accuracy_score(y_test, model.predict(x_test))\n",
        "  return accuracy\n",
        "\n",
        "def RF_tuning(trainBOW, trainTarget, testBOW, testTarget, embedding=False):\n",
        "    if (embedding):\n",
        "      x_train, x_val, y_train, y_val = train_test_split(trainBOW, trainTarget, train_size = 0.9) # Split data to validation and training  \n",
        "    else:\n",
        "      x_train, x_val, y_train, y_val = train_test_split(trainBOW.reshape(-1,).tolist()[0], trainTarget, train_size = 0.9) # Split data to validation and training\n",
        "    bestAcc = 0; bestC = 0 # variables for keeping best c and best accuracy\n",
        "    for c in [100,200, 400, 600, 800]:  # Iterating on different c's for hyperparameter tunning\n",
        "      acc = testRF(x_train, x_val, y_train, y_val, c) # Doing training and testing\n",
        "      if (acc > bestAcc):\n",
        "        bestC = c\n",
        "        bestAcc = acc\n",
        "      print (\"Accuracy for C=%s: %s\" % (c, acc))\n",
        "    \n",
        "    if (embedding):\n",
        "      accuracy = testRF(trainBOW, testBOW, trainTarget, testTarget, bestC)\n",
        "    else:\n",
        "      train = csr_matrix(trainBOW.all())\n",
        "      test = csr_matrix(testBOW.all())\n",
        "      accuracy = testRF(train, test, trainTarget, testTarget, bestC)\n",
        "    print(\"Accuracy of LR on test data C=%s: %s\" % (bestC,accuracy))\n",
        "    return accuracy"
      ]
    },
    {
      "cell_type": "code",
      "execution_count": null,
      "metadata": {
        "id": "5w_4L_kOVY7D"
      },
      "outputs": [],
      "source": [
        "target = [1 if i < 12500 else 0 for i in range(25000)]\n",
        "\n",
        "def cvRF():\n",
        "  print('For CV')\n",
        "  train, test = get_cv()\n",
        "  RF_tuning(train, target, test, target)\n",
        "\n",
        "def tfidRF():\n",
        "  print('For TFIDF')\n",
        "  train, test = get_tfidf()\n",
        "  RF_tuning(train, target, test, target)\n",
        "\n",
        "def noprocess_CVRF():\n",
        "  print('For no processing with cv')\n",
        "  train, test = get_without_preprocessing_cv()\n",
        "  RF_tuning(train, target, test, target)\n",
        "\n",
        "def noprocess_TFIDFRF():\n",
        "  print('For no processing with TFIDF')\n",
        "  train, test = get_without_preprocessing_tfid()\n",
        "  RF_tuning(train, target, test, target)\n",
        "\n",
        "def embeddingRF():\n",
        "  print('For embedding')\n",
        "  train = get_embedding_train()\n",
        "  test = get_embedding_test()\n",
        "  RF_tuning(train, target, test, target, True)\n",
        "\n",
        "cvRF()\n",
        "del cvRF\n",
        "\n",
        "tfidRF()\n",
        "del tfidRF\n",
        "\n",
        "noprocess_CVRF()\n",
        "del noprocess_CVRF\n",
        "\n",
        "noprocess_TFIDFRF()\n",
        "del noprocess_TFIDFRF\n",
        "\n",
        "embeddingRF()\n",
        "del embeddingRF\n",
        "\n",
        "del target"
      ]
    },
    {
      "cell_type": "markdown",
      "source": [
        "# KNN Classifier"
      ],
      "metadata": {
        "id": "kMKoVgbtJAfL"
      }
    },
    {
      "cell_type": "markdown",
      "source": [
        "**Before preprocessing**\n",
        "\n",
        "---\n",
        "\n",
        "**For count vectorizer**\n",
        "\n",
        ">1. Accuracy for C=1: 0.5204\n",
        "2. Accuracy for C=3: 0.5052\n",
        "3. Accuracy for C=5: 0.5012\n",
        "4. Accuracy for C=7: 0.5004\n",
        "\n",
        "                      Accuracy of LR on test data C=1: 0.51948\n",
        "\n",
        "**For TFIDF**\n",
        "\n",
        ">1. Accuracy for C=1: 0.7604\n",
        "2. Accuracy for C=3: 0.8048\n",
        "3. Accuracy for C=5: 0.8236\n",
        "4. Accuracy for C=7: 0.836\n",
        "\n",
        "                    Accuracy of LR on test data C=7: 0.79052\n",
        "\n",
        "**After preprocessing**\n",
        "\n",
        "---\n",
        "\n",
        "**For counting vector**\n",
        "\n",
        "\n",
        ">1. Accuracy for C=1: 0.4928\n",
        "2. Accuracy for C=3: 0.494\n",
        "3. Accuracy for C=5: 0.494\n",
        "4. Accuracy for C=7: 0.494\n",
        "\n",
        "                      Accuracy of LR on test data C=3: 0.5014\n",
        "**For TFIDF**\n",
        "\n",
        ">1. Accuracy for C=1: 0.7832\n",
        "2. Accuracy for C=3: 0.8156\n",
        "3. Accuracy for C=5: 0.8228\n",
        "4. Accuracy for C=7: 0.8392\n",
        "\n",
        "                      Accuracy of LR on test data C=7: 0.75428\n",
        "\n",
        "**For embedding**\n",
        "\n",
        ">1. Accuracy for C=1: 0.5152\n",
        "2. Accuracy for C=3: 0.5316\n",
        "3. Accuracy for C=5: 0.5276\n",
        "4. Accuracy for C=7: 0.5248\n",
        "\n",
        "\n",
        "\n",
        "\n"
      ],
      "metadata": {
        "id": "Wa0KizxWlKao"
      }
    },
    {
      "cell_type": "code",
      "execution_count": null,
      "metadata": {
        "id": "cRUgmplr-B2Q"
      },
      "outputs": [],
      "source": [
        "\n",
        "def testKNN(x_train, x_test, y_train, y_test, c):\n",
        "  model = KNeighborsClassifier(n_neighbors = c,weights = 'distance',algorithm='ball_tree')\n",
        "  model.fit(x_train, y_train)\n",
        "  accuracy = accuracy_score(y_test, model.predict(x_test))\n",
        "  return accuracy\n",
        "\n",
        "def KNN_tuning(trainBOW, trainTarget, testBOW, testTarget, embedding=False):\n",
        "    if (embedding):\n",
        "      x_train, x_val, y_train, y_val = train_test_split(trainBOW, trainTarget, train_size = 0.9) # Split data to validation and training  \n",
        "    else:\n",
        "      x_train, x_val, y_train, y_val = train_test_split(trainBOW.reshape(-1,).tolist()[0], trainTarget, train_size = 0.9) # Split data to validation and training\n",
        "\n",
        "    bestAcc = 0; bestC = 0 # variables for keeping best c and best accuracy\n",
        "    for c in [1,3,5,7]:  # Iterating on different c's for hyperparameter tunning\n",
        "      acc = testKNN(x_train, x_val, y_train, y_val, c) # Doing training and testing\n",
        "      if (acc > bestAcc):\n",
        "        bestC = c\n",
        "        bestAcc = acc\n",
        "      print (\"Accuracy for C=%s: %s\" % (c, acc))\n",
        "    \n",
        "    if (embedding):\n",
        "      accuracy = testKNN(testBOW, testBOW, trainTarget, testTarget, bestC)\n",
        "    else:\n",
        "      train = csr_matrix(trainBOW.all())\n",
        "      test = csr_matrix(testBOW.all())\n",
        "      accuracy = testKNN(train, test, trainTarget, testTarget, bestC)\n",
        "    print(\"Accuracy of LR on test data C=%s: %s\" % (bestC,accuracy))\n",
        "    return accuracy"
      ]
    },
    {
      "cell_type": "code",
      "execution_count": null,
      "metadata": {
        "id": "vIxcluXZVVvM",
        "colab": {
          "base_uri": "https://localhost:8080/"
        },
        "outputId": "98d70ee3-5d0d-4fa2-d0bd-d23ce1a36a69"
      },
      "outputs": [
        {
          "output_type": "stream",
          "name": "stdout",
          "text": [
            "For no processing with cv\n",
            "Accuracy for C=1: 0.5204\n",
            "Accuracy for C=3: 0.5052\n",
            "Accuracy for C=5: 0.5012\n",
            "Accuracy for C=7: 0.5004\n",
            "Accuracy of LR on test data C=1: 0.51948\n",
            "For no processing with TFIDF\n",
            "Accuracy for C=1: 0.7604\n",
            "Accuracy for C=3: 0.8048\n",
            "Accuracy for C=5: 0.8236\n",
            "Accuracy for C=7: 0.836\n",
            "Accuracy of LR on test data C=7: 0.79052\n"
          ]
        },
        {
          "output_type": "error",
          "ename": "NameError",
          "evalue": "ignored",
          "traceback": [
            "\u001b[0;31m---------------------------------------------------------------------------\u001b[0m",
            "\u001b[0;31mNameError\u001b[0m                                 Traceback (most recent call last)",
            "\u001b[0;32m<ipython-input-11-9e8a9f2b0c69>\u001b[0m in \u001b[0;36m<module>\u001b[0;34m()\u001b[0m\n\u001b[1;32m     46\u001b[0m \u001b[0;31m# del embeddingKNN\u001b[0m\u001b[0;34m\u001b[0m\u001b[0;34m\u001b[0m\u001b[0;34m\u001b[0m\u001b[0m\n\u001b[1;32m     47\u001b[0m \u001b[0;34m\u001b[0m\u001b[0m\n\u001b[0;32m---> 48\u001b[0;31m \u001b[0;32mdel\u001b[0m \u001b[0mtestSVM\u001b[0m\u001b[0;34m\u001b[0m\u001b[0;34m\u001b[0m\u001b[0m\n\u001b[0m\u001b[1;32m     49\u001b[0m \u001b[0;32mdel\u001b[0m \u001b[0msvm_tuning\u001b[0m\u001b[0;34m\u001b[0m\u001b[0;34m\u001b[0m\u001b[0m\n\u001b[1;32m     50\u001b[0m \u001b[0;34m\u001b[0m\u001b[0m\n",
            "\u001b[0;31mNameError\u001b[0m: name 'testSVM' is not defined"
          ]
        }
      ],
      "source": [
        "from scipy.sparse import csr_matrix\n",
        "target = [1 if i < 12500 else 0 for i in range(25000)]\n",
        "\n",
        "import warnings\n",
        "warnings.filterwarnings('ignore')\n",
        "\n",
        "def cvKNN():\n",
        "  print('For CV')\n",
        "  train, test = get_cv()\n",
        "  KNN_tuning(train, target, test, target)\n",
        "\n",
        "def tfidKNN():\n",
        "  print('For TFIDF')\n",
        "  train, test = get_tfidf()\n",
        "  KNN_tuning(train, target, test, target)\n",
        "\n",
        "def noprocess_CVKNN():\n",
        "  print('For no processing with cv')\n",
        "  train, test = get_without_preprocessing_cv()\n",
        "  KNN_tuning(train, target, test, target)\n",
        "\n",
        "def noprocess_TFIDFKNN():\n",
        "  print('For no processing with TFIDF')\n",
        "  train, test = get_without_preprocessing_tfid()\n",
        "  KNN_tuning(train, target, test, target)\n",
        "\n",
        "def embeddingKNN():\n",
        "  print('For embedding')\n",
        "  train = get_embedding_train()\n",
        "  test = get_embedding_test()\n",
        "  KNN_tuning(train, target, test, target, True)\n",
        "\n",
        "cvKNN()\n",
        "del cvKNN\n",
        "\n",
        "tfidKNN()\n",
        "del tfidKNN\n",
        "\n",
        "noprocess_CVKNN()\n",
        "del noprocess_CVKNN\n",
        "\n",
        "noprocess_TFIDFKNN()\n",
        "del noprocess_TFIDFKNN\n",
        "\n",
        "embeddingKNN()\n",
        "del embeddingKNN\n",
        "\n",
        "del testKNN\n",
        "del KNN_tuning\n",
        "\n",
        "del target"
      ]
    },
    {
      "cell_type": "markdown",
      "source": [
        "# Final analysis"
      ],
      "metadata": {
        "id": "3vFKNCX-teML"
      }
    },
    {
      "cell_type": "markdown",
      "source": [
        "**For Bag of words**"
      ],
      "metadata": {
        "id": "Z8ws_cLsukw5"
      }
    },
    {
      "cell_type": "code",
      "source": [
        "Models = np.array(['KNN','Naive Bayes','Random Forests','Linear SVM','Logistic Regression'])\n",
        "BOW_scores = np.array([0.51252,0.8644,0.8444,0.882,0.88448])\n",
        "df = pd.DataFrame()\n",
        "df['Model'] = Models\n",
        "df['Accuracy']=BOW_scores\n",
        "df"
      ],
      "metadata": {
        "id": "UThx31dnJ6qJ",
        "colab": {
          "base_uri": "https://localhost:8080/",
          "height": 206
        },
        "outputId": "6d92a9a8-229a-46a6-ebe1-feeab8fbad64"
      },
      "execution_count": null,
      "outputs": [
        {
          "output_type": "execute_result",
          "data": {
            "text/html": [
              "\n",
              "  <div id=\"df-e5400718-6efe-41f1-a83b-215ab5262577\">\n",
              "    <div class=\"colab-df-container\">\n",
              "      <div>\n",
              "<style scoped>\n",
              "    .dataframe tbody tr th:only-of-type {\n",
              "        vertical-align: middle;\n",
              "    }\n",
              "\n",
              "    .dataframe tbody tr th {\n",
              "        vertical-align: top;\n",
              "    }\n",
              "\n",
              "    .dataframe thead th {\n",
              "        text-align: right;\n",
              "    }\n",
              "</style>\n",
              "<table border=\"1\" class=\"dataframe\">\n",
              "  <thead>\n",
              "    <tr style=\"text-align: right;\">\n",
              "      <th></th>\n",
              "      <th>Model</th>\n",
              "      <th>Accuracy</th>\n",
              "    </tr>\n",
              "  </thead>\n",
              "  <tbody>\n",
              "    <tr>\n",
              "      <th>0</th>\n",
              "      <td>KNN</td>\n",
              "      <td>0.51252</td>\n",
              "    </tr>\n",
              "    <tr>\n",
              "      <th>1</th>\n",
              "      <td>Naive Bayes</td>\n",
              "      <td>0.86440</td>\n",
              "    </tr>\n",
              "    <tr>\n",
              "      <th>2</th>\n",
              "      <td>Random Forests</td>\n",
              "      <td>0.84440</td>\n",
              "    </tr>\n",
              "    <tr>\n",
              "      <th>3</th>\n",
              "      <td>Linear SVM</td>\n",
              "      <td>0.88200</td>\n",
              "    </tr>\n",
              "    <tr>\n",
              "      <th>4</th>\n",
              "      <td>Logistic Regression</td>\n",
              "      <td>0.88448</td>\n",
              "    </tr>\n",
              "  </tbody>\n",
              "</table>\n",
              "</div>\n",
              "      <button class=\"colab-df-convert\" onclick=\"convertToInteractive('df-e5400718-6efe-41f1-a83b-215ab5262577')\"\n",
              "              title=\"Convert this dataframe to an interactive table.\"\n",
              "              style=\"display:none;\">\n",
              "        \n",
              "  <svg xmlns=\"http://www.w3.org/2000/svg\" height=\"24px\"viewBox=\"0 0 24 24\"\n",
              "       width=\"24px\">\n",
              "    <path d=\"M0 0h24v24H0V0z\" fill=\"none\"/>\n",
              "    <path d=\"M18.56 5.44l.94 2.06.94-2.06 2.06-.94-2.06-.94-.94-2.06-.94 2.06-2.06.94zm-11 1L8.5 8.5l.94-2.06 2.06-.94-2.06-.94L8.5 2.5l-.94 2.06-2.06.94zm10 10l.94 2.06.94-2.06 2.06-.94-2.06-.94-.94-2.06-.94 2.06-2.06.94z\"/><path d=\"M17.41 7.96l-1.37-1.37c-.4-.4-.92-.59-1.43-.59-.52 0-1.04.2-1.43.59L10.3 9.45l-7.72 7.72c-.78.78-.78 2.05 0 2.83L4 21.41c.39.39.9.59 1.41.59.51 0 1.02-.2 1.41-.59l7.78-7.78 2.81-2.81c.8-.78.8-2.07 0-2.86zM5.41 20L4 18.59l7.72-7.72 1.47 1.35L5.41 20z\"/>\n",
              "  </svg>\n",
              "      </button>\n",
              "      \n",
              "  <style>\n",
              "    .colab-df-container {\n",
              "      display:flex;\n",
              "      flex-wrap:wrap;\n",
              "      gap: 12px;\n",
              "    }\n",
              "\n",
              "    .colab-df-convert {\n",
              "      background-color: #E8F0FE;\n",
              "      border: none;\n",
              "      border-radius: 50%;\n",
              "      cursor: pointer;\n",
              "      display: none;\n",
              "      fill: #1967D2;\n",
              "      height: 32px;\n",
              "      padding: 0 0 0 0;\n",
              "      width: 32px;\n",
              "    }\n",
              "\n",
              "    .colab-df-convert:hover {\n",
              "      background-color: #E2EBFA;\n",
              "      box-shadow: 0px 1px 2px rgba(60, 64, 67, 0.3), 0px 1px 3px 1px rgba(60, 64, 67, 0.15);\n",
              "      fill: #174EA6;\n",
              "    }\n",
              "\n",
              "    [theme=dark] .colab-df-convert {\n",
              "      background-color: #3B4455;\n",
              "      fill: #D2E3FC;\n",
              "    }\n",
              "\n",
              "    [theme=dark] .colab-df-convert:hover {\n",
              "      background-color: #434B5C;\n",
              "      box-shadow: 0px 1px 3px 1px rgba(0, 0, 0, 0.15);\n",
              "      filter: drop-shadow(0px 1px 2px rgba(0, 0, 0, 0.3));\n",
              "      fill: #FFFFFF;\n",
              "    }\n",
              "  </style>\n",
              "\n",
              "      <script>\n",
              "        const buttonEl =\n",
              "          document.querySelector('#df-e5400718-6efe-41f1-a83b-215ab5262577 button.colab-df-convert');\n",
              "        buttonEl.style.display =\n",
              "          google.colab.kernel.accessAllowed ? 'block' : 'none';\n",
              "\n",
              "        async function convertToInteractive(key) {\n",
              "          const element = document.querySelector('#df-e5400718-6efe-41f1-a83b-215ab5262577');\n",
              "          const dataTable =\n",
              "            await google.colab.kernel.invokeFunction('convertToInteractive',\n",
              "                                                     [key], {});\n",
              "          if (!dataTable) return;\n",
              "\n",
              "          const docLinkHtml = 'Like what you see? Visit the ' +\n",
              "            '<a target=\"_blank\" href=https://colab.research.google.com/notebooks/data_table.ipynb>data table notebook</a>'\n",
              "            + ' to learn more about interactive tables.';\n",
              "          element.innerHTML = '';\n",
              "          dataTable['output_type'] = 'display_data';\n",
              "          await google.colab.output.renderOutput(dataTable, element);\n",
              "          const docLink = document.createElement('div');\n",
              "          docLink.innerHTML = docLinkHtml;\n",
              "          element.appendChild(docLink);\n",
              "        }\n",
              "      </script>\n",
              "    </div>\n",
              "  </div>\n",
              "  "
            ],
            "text/plain": [
              "                 Model  Accuracy\n",
              "0                  KNN   0.51252\n",
              "1          Naive Bayes   0.86440\n",
              "2       Random Forests   0.84440\n",
              "3           Linear SVM   0.88200\n",
              "4  Logistic Regression   0.88448"
            ]
          },
          "metadata": {},
          "execution_count": 9
        }
      ]
    },
    {
      "cell_type": "code",
      "source": [
        "sns.barplot(data = df,x='Accuracy',y='Model')\n",
        "plt.show()"
      ],
      "metadata": {
        "colab": {
          "base_uri": "https://localhost:8080/",
          "height": 279
        },
        "id": "CSXaKaoaufWt",
        "outputId": "6a2882eb-395e-425f-d300-5911fd642458"
      },
      "execution_count": null,
      "outputs": [
        {
          "output_type": "display_data",
          "data": {
            "image/png": "[encoded data removed]",
            "text/plain": [
              "<Figure size 432x288 with 1 Axes>"
            ]
          },
          "metadata": {
            "needs_background": "light"
          }
        }
      ]
    },
    {
      "cell_type": "markdown",
      "source": [
        "**For TFIDF**"
      ],
      "metadata": {
        "id": "gVFQZ2HQu4wg"
      }
    },
    {
      "cell_type": "code",
      "source": [
        "Models = np.array(['KNN','Naive Bayes','Random Forests','Linear SVM','Logistic Regression'])\n",
        "TF_scores = np.array([0.75508,0.87224,0.8482,0.89356,0.875])\n",
        "df = pd.DataFrame()\n",
        "df['Model'] = Models\n",
        "df['Accuracy'] = TF_scores\n",
        "df"
      ],
      "metadata": {
        "colab": {
          "base_uri": "https://localhost:8080/",
          "height": 206
        },
        "id": "p4PPqjSIt00J",
        "outputId": "cf1f4251-e239-426d-910c-dcd3a7188e61"
      },
      "execution_count": null,
      "outputs": [
        {
          "output_type": "execute_result",
          "data": {
            "text/html": [
              "\n",
              "  <div id=\"df-b187433f-c063-4c07-9cc4-6943ea8d4f0d\">\n",
              "    <div class=\"colab-df-container\">\n",
              "      <div>\n",
              "<style scoped>\n",
              "    .dataframe tbody tr th:only-of-type {\n",
              "        vertical-align: middle;\n",
              "    }\n",
              "\n",
              "    .dataframe tbody tr th {\n",
              "        vertical-align: top;\n",
              "    }\n",
              "\n",
              "    .dataframe thead th {\n",
              "        text-align: right;\n",
              "    }\n",
              "</style>\n",
              "<table border=\"1\" class=\"dataframe\">\n",
              "  <thead>\n",
              "    <tr style=\"text-align: right;\">\n",
              "      <th></th>\n",
              "      <th>Model</th>\n",
              "      <th>Accuracy</th>\n",
              "    </tr>\n",
              "  </thead>\n",
              "  <tbody>\n",
              "    <tr>\n",
              "      <th>0</th>\n",
              "      <td>KNN</td>\n",
              "      <td>0.75508</td>\n",
              "    </tr>\n",
              "    <tr>\n",
              "      <th>1</th>\n",
              "      <td>Naive Bayes</td>\n",
              "      <td>0.87224</td>\n",
              "    </tr>\n",
              "    <tr>\n",
              "      <th>2</th>\n",
              "      <td>Random Forests</td>\n",
              "      <td>0.84820</td>\n",
              "    </tr>\n",
              "    <tr>\n",
              "      <th>3</th>\n",
              "      <td>Linear SVM</td>\n",
              "      <td>0.89356</td>\n",
              "    </tr>\n",
              "    <tr>\n",
              "      <th>4</th>\n",
              "      <td>Logistic Regression</td>\n",
              "      <td>0.87500</td>\n",
              "    </tr>\n",
              "  </tbody>\n",
              "</table>\n",
              "</div>\n",
              "      <button class=\"colab-df-convert\" onclick=\"convertToInteractive('df-b187433f-c063-4c07-9cc4-6943ea8d4f0d')\"\n",
              "              title=\"Convert this dataframe to an interactive table.\"\n",
              "              style=\"display:none;\">\n",
              "        \n",
              "  <svg xmlns=\"http://www.w3.org/2000/svg\" height=\"24px\"viewBox=\"0 0 24 24\"\n",
              "       width=\"24px\">\n",
              "    <path d=\"M0 0h24v24H0V0z\" fill=\"none\"/>\n",
              "    <path d=\"M18.56 5.44l.94 2.06.94-2.06 2.06-.94-2.06-.94-.94-2.06-.94 2.06-2.06.94zm-11 1L8.5 8.5l.94-2.06 2.06-.94-2.06-.94L8.5 2.5l-.94 2.06-2.06.94zm10 10l.94 2.06.94-2.06 2.06-.94-2.06-.94-.94-2.06-.94 2.06-2.06.94z\"/><path d=\"M17.41 7.96l-1.37-1.37c-.4-.4-.92-.59-1.43-.59-.52 0-1.04.2-1.43.59L10.3 9.45l-7.72 7.72c-.78.78-.78 2.05 0 2.83L4 21.41c.39.39.9.59 1.41.59.51 0 1.02-.2 1.41-.59l7.78-7.78 2.81-2.81c.8-.78.8-2.07 0-2.86zM5.41 20L4 18.59l7.72-7.72 1.47 1.35L5.41 20z\"/>\n",
              "  </svg>\n",
              "      </button>\n",
              "      \n",
              "  <style>\n",
              "    .colab-df-container {\n",
              "      display:flex;\n",
              "      flex-wrap:wrap;\n",
              "      gap: 12px;\n",
              "    }\n",
              "\n",
              "    .colab-df-convert {\n",
              "      background-color: #E8F0FE;\n",
              "      border: none;\n",
              "      border-radius: 50%;\n",
              "      cursor: pointer;\n",
              "      display: none;\n",
              "      fill: #1967D2;\n",
              "      height: 32px;\n",
              "      padding: 0 0 0 0;\n",
              "      width: 32px;\n",
              "    }\n",
              "\n",
              "    .colab-df-convert:hover {\n",
              "      background-color: #E2EBFA;\n",
              "      box-shadow: 0px 1px 2px rgba(60, 64, 67, 0.3), 0px 1px 3px 1px rgba(60, 64, 67, 0.15);\n",
              "      fill: #174EA6;\n",
              "    }\n",
              "\n",
              "    [theme=dark] .colab-df-convert {\n",
              "      background-color: #3B4455;\n",
              "      fill: #D2E3FC;\n",
              "    }\n",
              "\n",
              "    [theme=dark] .colab-df-convert:hover {\n",
              "      background-color: #434B5C;\n",
              "      box-shadow: 0px 1px 3px 1px rgba(0, 0, 0, 0.15);\n",
              "      filter: drop-shadow(0px 1px 2px rgba(0, 0, 0, 0.3));\n",
              "      fill: #FFFFFF;\n",
              "    }\n",
              "  </style>\n",
              "\n",
              "      <script>\n",
              "        const buttonEl =\n",
              "          document.querySelector('#df-b187433f-c063-4c07-9cc4-6943ea8d4f0d button.colab-df-convert');\n",
              "        buttonEl.style.display =\n",
              "          google.colab.kernel.accessAllowed ? 'block' : 'none';\n",
              "\n",
              "        async function convertToInteractive(key) {\n",
              "          const element = document.querySelector('#df-b187433f-c063-4c07-9cc4-6943ea8d4f0d');\n",
              "          const dataTable =\n",
              "            await google.colab.kernel.invokeFunction('convertToInteractive',\n",
              "                                                     [key], {});\n",
              "          if (!dataTable) return;\n",
              "\n",
              "          const docLinkHtml = 'Like what you see? Visit the ' +\n",
              "            '<a target=\"_blank\" href=https://colab.research.google.com/notebooks/data_table.ipynb>data table notebook</a>'\n",
              "            + ' to learn more about interactive tables.';\n",
              "          element.innerHTML = '';\n",
              "          dataTable['output_type'] = 'display_data';\n",
              "          await google.colab.output.renderOutput(dataTable, element);\n",
              "          const docLink = document.createElement('div');\n",
              "          docLink.innerHTML = docLinkHtml;\n",
              "          element.appendChild(docLink);\n",
              "        }\n",
              "      </script>\n",
              "    </div>\n",
              "  </div>\n",
              "  "
            ],
            "text/plain": [
              "                 Model  Accuracy\n",
              "0                  KNN   0.75508\n",
              "1          Naive Bayes   0.87224\n",
              "2       Random Forests   0.84820\n",
              "3           Linear SVM   0.89356\n",
              "4  Logistic Regression   0.87500"
            ]
          },
          "metadata": {},
          "execution_count": 11
        }
      ]
    },
    {
      "cell_type": "code",
      "source": [
        "sns.barplot(data = df, x='Accuracy', y='Model')\n",
        "plt.show()"
      ],
      "metadata": {
        "colab": {
          "base_uri": "https://localhost:8080/",
          "height": 279
        },
        "id": "3WTpqdYsu4CT",
        "outputId": "da6485b5-cd19-4a82-9817-e714e41867a8"
      },
      "execution_count": null,
      "outputs": [
        {
          "output_type": "display_data",
          "data": {
            "image/png": "[encoded data removed]",
            "text/plain": [
              "<Figure size 432x288 with 1 Axes>"
            ]
          },
          "metadata": {
            "needs_background": "light"
          }
        }
      ]
    },
    {
      "cell_type": "markdown",
      "source": [
        "**For embedding**"
      ],
      "metadata": {
        "id": "M_gtanDHvHyO"
      }
    },
    {
      "cell_type": "code",
      "source": [
        "Models = np.array(['KNN','Naive Bayes','Random Forests','Linear SVM','Logistic Regression'])\n",
        "TF_scores = np.array([0.51948,0.64,0.67272,0.769,0.773])\n",
        "df = pd.DataFrame()\n",
        "df['Model'] = Models\n",
        "df['Accuracy'] = TF_scores\n",
        "df\n"
      ],
      "metadata": {
        "colab": {
          "base_uri": "https://localhost:8080/",
          "height": 206
        },
        "id": "TTTO2xXyu8GP",
        "outputId": "e9fc6080-a158-4717-e2cc-bae719b52bbd"
      },
      "execution_count": null,
      "outputs": [
        {
          "output_type": "execute_result",
          "data": {
            "text/html": [
              "\n",
              "  <div id=\"df-28c67543-aa9e-4734-ae5b-995191a2c11d\">\n",
              "    <div class=\"colab-df-container\">\n",
              "      <div>\n",
              "<style scoped>\n",
              "    .dataframe tbody tr th:only-of-type {\n",
              "        vertical-align: middle;\n",
              "    }\n",
              "\n",
              "    .dataframe tbody tr th {\n",
              "        vertical-align: top;\n",
              "    }\n",
              "\n",
              "    .dataframe thead th {\n",
              "        text-align: right;\n",
              "    }\n",
              "</style>\n",
              "<table border=\"1\" class=\"dataframe\">\n",
              "  <thead>\n",
              "    <tr style=\"text-align: right;\">\n",
              "      <th></th>\n",
              "      <th>Model</th>\n",
              "      <th>Accuracy</th>\n",
              "    </tr>\n",
              "  </thead>\n",
              "  <tbody>\n",
              "    <tr>\n",
              "      <th>0</th>\n",
              "      <td>KNN</td>\n",
              "      <td>0.51948</td>\n",
              "    </tr>\n",
              "    <tr>\n",
              "      <th>1</th>\n",
              "      <td>Naive Bayes</td>\n",
              "      <td>0.64000</td>\n",
              "    </tr>\n",
              "    <tr>\n",
              "      <th>2</th>\n",
              "      <td>Random Forests</td>\n",
              "      <td>0.67272</td>\n",
              "    </tr>\n",
              "    <tr>\n",
              "      <th>3</th>\n",
              "      <td>Linear SVM</td>\n",
              "      <td>0.76900</td>\n",
              "    </tr>\n",
              "    <tr>\n",
              "      <th>4</th>\n",
              "      <td>Logistic Regression</td>\n",
              "      <td>0.77300</td>\n",
              "    </tr>\n",
              "  </tbody>\n",
              "</table>\n",
              "</div>\n",
              "      <button class=\"colab-df-convert\" onclick=\"convertToInteractive('df-28c67543-aa9e-4734-ae5b-995191a2c11d')\"\n",
              "              title=\"Convert this dataframe to an interactive table.\"\n",
              "              style=\"display:none;\">\n",
              "        \n",
              "  <svg xmlns=\"http://www.w3.org/2000/svg\" height=\"24px\"viewBox=\"0 0 24 24\"\n",
              "       width=\"24px\">\n",
              "    <path d=\"M0 0h24v24H0V0z\" fill=\"none\"/>\n",
              "    <path d=\"M18.56 5.44l.94 2.06.94-2.06 2.06-.94-2.06-.94-.94-2.06-.94 2.06-2.06.94zm-11 1L8.5 8.5l.94-2.06 2.06-.94-2.06-.94L8.5 2.5l-.94 2.06-2.06.94zm10 10l.94 2.06.94-2.06 2.06-.94-2.06-.94-.94-2.06-.94 2.06-2.06.94z\"/><path d=\"M17.41 7.96l-1.37-1.37c-.4-.4-.92-.59-1.43-.59-.52 0-1.04.2-1.43.59L10.3 9.45l-7.72 7.72c-.78.78-.78 2.05 0 2.83L4 21.41c.39.39.9.59 1.41.59.51 0 1.02-.2 1.41-.59l7.78-7.78 2.81-2.81c.8-.78.8-2.07 0-2.86zM5.41 20L4 18.59l7.72-7.72 1.47 1.35L5.41 20z\"/>\n",
              "  </svg>\n",
              "      </button>\n",
              "      \n",
              "  <style>\n",
              "    .colab-df-container {\n",
              "      display:flex;\n",
              "      flex-wrap:wrap;\n",
              "      gap: 12px;\n",
              "    }\n",
              "\n",
              "    .colab-df-convert {\n",
              "      background-color: #E8F0FE;\n",
              "      border: none;\n",
              "      border-radius: 50%;\n",
              "      cursor: pointer;\n",
              "      display: none;\n",
              "      fill: #1967D2;\n",
              "      height: 32px;\n",
              "      padding: 0 0 0 0;\n",
              "      width: 32px;\n",
              "    }\n",
              "\n",
              "    .colab-df-convert:hover {\n",
              "      background-color: #E2EBFA;\n",
              "      box-shadow: 0px 1px 2px rgba(60, 64, 67, 0.3), 0px 1px 3px 1px rgba(60, 64, 67, 0.15);\n",
              "      fill: #174EA6;\n",
              "    }\n",
              "\n",
              "    [theme=dark] .colab-df-convert {\n",
              "      background-color: #3B4455;\n",
              "      fill: #D2E3FC;\n",
              "    }\n",
              "\n",
              "    [theme=dark] .colab-df-convert:hover {\n",
              "      background-color: #434B5C;\n",
              "      box-shadow: 0px 1px 3px 1px rgba(0, 0, 0, 0.15);\n",
              "      filter: drop-shadow(0px 1px 2px rgba(0, 0, 0, 0.3));\n",
              "      fill: #FFFFFF;\n",
              "    }\n",
              "  </style>\n",
              "\n",
              "      <script>\n",
              "        const buttonEl =\n",
              "          document.querySelector('#df-28c67543-aa9e-4734-ae5b-995191a2c11d button.colab-df-convert');\n",
              "        buttonEl.style.display =\n",
              "          google.colab.kernel.accessAllowed ? 'block' : 'none';\n",
              "\n",
              "        async function convertToInteractive(key) {\n",
              "          const element = document.querySelector('#df-28c67543-aa9e-4734-ae5b-995191a2c11d');\n",
              "          const dataTable =\n",
              "            await google.colab.kernel.invokeFunction('convertToInteractive',\n",
              "                                                     [key], {});\n",
              "          if (!dataTable) return;\n",
              "\n",
              "          const docLinkHtml = 'Like what you see? Visit the ' +\n",
              "            '<a target=\"_blank\" href=https://colab.research.google.com/notebooks/data_table.ipynb>data table notebook</a>'\n",
              "            + ' to learn more about interactive tables.';\n",
              "          element.innerHTML = '';\n",
              "          dataTable['output_type'] = 'display_data';\n",
              "          await google.colab.output.renderOutput(dataTable, element);\n",
              "          const docLink = document.createElement('div');\n",
              "          docLink.innerHTML = docLinkHtml;\n",
              "          element.appendChild(docLink);\n",
              "        }\n",
              "      </script>\n",
              "    </div>\n",
              "  </div>\n",
              "  "
            ],
            "text/plain": [
              "                 Model  Accuracy\n",
              "0                  KNN   0.51948\n",
              "1          Naive Bayes   0.64000\n",
              "2       Random Forests   0.67272\n",
              "3           Linear SVM   0.76900\n",
              "4  Logistic Regression   0.77300"
            ]
          },
          "metadata": {},
          "execution_count": 8
        }
      ]
    },
    {
      "cell_type": "code",
      "source": [
        "sns.barplot(data = df,x='Accuracy',y='Model')\n",
        "plt.show()"
      ],
      "metadata": {
        "colab": {
          "base_uri": "https://localhost:8080/",
          "height": 279
        },
        "id": "9_kvqQvhvERX",
        "outputId": "e3a5865c-c488-4071-baca-ff673cf27095"
      },
      "execution_count": null,
      "outputs": [
        {
          "output_type": "display_data",
          "data": {
            "image/png": "[encoded data removed]",
            "text/plain": [
              "<Figure size 432x288 with 1 Axes>"
            ]
          },
          "metadata": {
            "needs_background": "light"
          }
        }
      ]
    },
    {
      "cell_type": "markdown",
      "source": [
        "All compared"
      ],
      "metadata": {
        "id": "9bDyC7Vm1pj4"
      }
    },
    {
      "cell_type": "code",
      "source": [
        "dft = pd.DataFrame([['KNN', 0.51252, 0.75508, 0.51948],\n",
        "                    ['Naive Bayes', 0.8644, 0.87224, 0.64], \n",
        "                   ['Random Forests', 0.8444, 0.8482, 0.67272],\n",
        "                   ['Linear SVM', 0.882, 0.89356, 0.769],\n",
        "                    ['Logistic Regression', 0.88448, 0.875, 0.773]],\n",
        "                  columns=[\"Models\", \"BOW\",\"TFIDF\", \"Embedding\"])\n",
        " \n",
        "dft.plot(x='Models',\n",
        "        kind='bar',\n",
        "        stacked=False)\n"
      ],
      "metadata": {
        "colab": {
          "base_uri": "https://localhost:8080/",
          "height": 384
        },
        "id": "_doLLUwRvFAQ",
        "outputId": "00aa559f-ead1-4a08-e4c3-3c7182a09256"
      },
      "execution_count": null,
      "outputs": [
        {
          "output_type": "execute_result",
          "data": {
            "text/plain": [
              "<matplotlib.axes._subplots.AxesSubplot at 0x7f084d894250>"
            ]
          },
          "metadata": {},
          "execution_count": 14
        },
        {
          "output_type": "display_data",
          "data": {
            "image/png": "[encoded data removed]",
            "text/plain": [
              "<Figure size 432x288 with 1 Axes>"
            ]
          },
          "metadata": {
            "needs_background": "light"
          }
        }
      ]
    },
    {
      "cell_type": "markdown",
      "source": [
        "Before preprocessing"
      ],
      "metadata": {
        "id": "wdqn-G4712R5"
      }
    },
    {
      "cell_type": "markdown",
      "source": [
        "**For bag of words**"
      ],
      "metadata": {
        "id": "eXDRirDm15uK"
      }
    },
    {
      "cell_type": "code",
      "source": [
        "Models = np.array(['KNN','Naive Bayes','Random Forests','Linear SVM','Logistic Regression'])\n",
        "TF_scores = np.array([0.51948,0.84852,0.84468,0.89508,0.88864])\n",
        "df = pd.DataFrame()\n",
        "df['Model'] = Models\n",
        "df['Accuracy'] = TF_scores\n",
        "df"
      ],
      "metadata": {
        "colab": {
          "base_uri": "https://localhost:8080/",
          "height": 206
        },
        "id": "hG9SEwkt1nq4",
        "outputId": "9658d56e-f333-448c-bb2f-d557146ed3ff"
      },
      "execution_count": null,
      "outputs": [
        {
          "output_type": "execute_result",
          "data": {
            "text/html": [
              "\n",
              "  <div id=\"df-8796b37f-9fd9-45f1-89ca-22c4e4a3e777\">\n",
              "    <div class=\"colab-df-container\">\n",
              "      <div>\n",
              "<style scoped>\n",
              "    .dataframe tbody tr th:only-of-type {\n",
              "        vertical-align: middle;\n",
              "    }\n",
              "\n",
              "    .dataframe tbody tr th {\n",
              "        vertical-align: top;\n",
              "    }\n",
              "\n",
              "    .dataframe thead th {\n",
              "        text-align: right;\n",
              "    }\n",
              "</style>\n",
              "<table border=\"1\" class=\"dataframe\">\n",
              "  <thead>\n",
              "    <tr style=\"text-align: right;\">\n",
              "      <th></th>\n",
              "      <th>Model</th>\n",
              "      <th>Accuracy</th>\n",
              "    </tr>\n",
              "  </thead>\n",
              "  <tbody>\n",
              "    <tr>\n",
              "      <th>0</th>\n",
              "      <td>KNN</td>\n",
              "      <td>0.51948</td>\n",
              "    </tr>\n",
              "    <tr>\n",
              "      <th>1</th>\n",
              "      <td>Naive Bayes</td>\n",
              "      <td>0.84852</td>\n",
              "    </tr>\n",
              "    <tr>\n",
              "      <th>2</th>\n",
              "      <td>Random Forests</td>\n",
              "      <td>0.84468</td>\n",
              "    </tr>\n",
              "    <tr>\n",
              "      <th>3</th>\n",
              "      <td>Linear SVM</td>\n",
              "      <td>0.89508</td>\n",
              "    </tr>\n",
              "    <tr>\n",
              "      <th>4</th>\n",
              "      <td>Logistic Regression</td>\n",
              "      <td>0.88864</td>\n",
              "    </tr>\n",
              "  </tbody>\n",
              "</table>\n",
              "</div>\n",
              "      <button class=\"colab-df-convert\" onclick=\"convertToInteractive('df-8796b37f-9fd9-45f1-89ca-22c4e4a3e777')\"\n",
              "              title=\"Convert this dataframe to an interactive table.\"\n",
              "              style=\"display:none;\">\n",
              "        \n",
              "  <svg xmlns=\"http://www.w3.org/2000/svg\" height=\"24px\"viewBox=\"0 0 24 24\"\n",
              "       width=\"24px\">\n",
              "    <path d=\"M0 0h24v24H0V0z\" fill=\"none\"/>\n",
              "    <path d=\"M18.56 5.44l.94 2.06.94-2.06 2.06-.94-2.06-.94-.94-2.06-.94 2.06-2.06.94zm-11 1L8.5 8.5l.94-2.06 2.06-.94-2.06-.94L8.5 2.5l-.94 2.06-2.06.94zm10 10l.94 2.06.94-2.06 2.06-.94-2.06-.94-.94-2.06-.94 2.06-2.06.94z\"/><path d=\"M17.41 7.96l-1.37-1.37c-.4-.4-.92-.59-1.43-.59-.52 0-1.04.2-1.43.59L10.3 9.45l-7.72 7.72c-.78.78-.78 2.05 0 2.83L4 21.41c.39.39.9.59 1.41.59.51 0 1.02-.2 1.41-.59l7.78-7.78 2.81-2.81c.8-.78.8-2.07 0-2.86zM5.41 20L4 18.59l7.72-7.72 1.47 1.35L5.41 20z\"/>\n",
              "  </svg>\n",
              "      </button>\n",
              "      \n",
              "  <style>\n",
              "    .colab-df-container {\n",
              "      display:flex;\n",
              "      flex-wrap:wrap;\n",
              "      gap: 12px;\n",
              "    }\n",
              "\n",
              "    .colab-df-convert {\n",
              "      background-color: #E8F0FE;\n",
              "      border: none;\n",
              "      border-radius: 50%;\n",
              "      cursor: pointer;\n",
              "      display: none;\n",
              "      fill: #1967D2;\n",
              "      height: 32px;\n",
              "      padding: 0 0 0 0;\n",
              "      width: 32px;\n",
              "    }\n",
              "\n",
              "    .colab-df-convert:hover {\n",
              "      background-color: #E2EBFA;\n",
              "      box-shadow: 0px 1px 2px rgba(60, 64, 67, 0.3), 0px 1px 3px 1px rgba(60, 64, 67, 0.15);\n",
              "      fill: #174EA6;\n",
              "    }\n",
              "\n",
              "    [theme=dark] .colab-df-convert {\n",
              "      background-color: #3B4455;\n",
              "      fill: #D2E3FC;\n",
              "    }\n",
              "\n",
              "    [theme=dark] .colab-df-convert:hover {\n",
              "      background-color: #434B5C;\n",
              "      box-shadow: 0px 1px 3px 1px rgba(0, 0, 0, 0.15);\n",
              "      filter: drop-shadow(0px 1px 2px rgba(0, 0, 0, 0.3));\n",
              "      fill: #FFFFFF;\n",
              "    }\n",
              "  </style>\n",
              "\n",
              "      <script>\n",
              "        const buttonEl =\n",
              "          document.querySelector('#df-8796b37f-9fd9-45f1-89ca-22c4e4a3e777 button.colab-df-convert');\n",
              "        buttonEl.style.display =\n",
              "          google.colab.kernel.accessAllowed ? 'block' : 'none';\n",
              "\n",
              "        async function convertToInteractive(key) {\n",
              "          const element = document.querySelector('#df-8796b37f-9fd9-45f1-89ca-22c4e4a3e777');\n",
              "          const dataTable =\n",
              "            await google.colab.kernel.invokeFunction('convertToInteractive',\n",
              "                                                     [key], {});\n",
              "          if (!dataTable) return;\n",
              "\n",
              "          const docLinkHtml = 'Like what you see? Visit the ' +\n",
              "            '<a target=\"_blank\" href=https://colab.research.google.com/notebooks/data_table.ipynb>data table notebook</a>'\n",
              "            + ' to learn more about interactive tables.';\n",
              "          element.innerHTML = '';\n",
              "          dataTable['output_type'] = 'display_data';\n",
              "          await google.colab.output.renderOutput(dataTable, element);\n",
              "          const docLink = document.createElement('div');\n",
              "          docLink.innerHTML = docLinkHtml;\n",
              "          element.appendChild(docLink);\n",
              "        }\n",
              "      </script>\n",
              "    </div>\n",
              "  </div>\n",
              "  "
            ],
            "text/plain": [
              "                 Model  Accuracy\n",
              "0                  KNN   0.51948\n",
              "1          Naive Bayes   0.84852\n",
              "2       Random Forests   0.84468\n",
              "3           Linear SVM   0.89508\n",
              "4  Logistic Regression   0.88864"
            ]
          },
          "metadata": {},
          "execution_count": 15
        }
      ]
    },
    {
      "cell_type": "code",
      "source": [
        "sns.barplot(data = df,x='Accuracy',y='Model')\n",
        "plt.show()"
      ],
      "metadata": {
        "colab": {
          "base_uri": "https://localhost:8080/",
          "height": 279
        },
        "id": "HX43wC4S2JVq",
        "outputId": "6eb41e59-b66f-4636-d0e8-51e6010bc70b"
      },
      "execution_count": null,
      "outputs": [
        {
          "output_type": "display_data",
          "data": {
            "image/png": "[encoded data removed]",
            "text/plain": [
              "<Figure size 432x288 with 1 Axes>"
            ]
          },
          "metadata": {
            "needs_background": "light"
          }
        }
      ]
    },
    {
      "cell_type": "markdown",
      "source": [
        "**For TFIDF**"
      ],
      "metadata": {
        "id": "cA-KjidB2Xs6"
      }
    },
    {
      "cell_type": "code",
      "source": [
        "Models = np.array(['KNN','Naive Bayes','Random Forests','Linear SVM','Logistic Regression'])\n",
        "TF_scores = np.array([0.79052,0.8352,0.83828,0.88104,0.88988])\n",
        "df = pd.DataFrame()\n",
        "df['Model'] = Models\n",
        "df['Accuracy'] = TF_scores\n",
        "df\n"
      ],
      "metadata": {
        "colab": {
          "base_uri": "https://localhost:8080/",
          "height": 206
        },
        "id": "KE2MBow62Loh",
        "outputId": "c3a1a17f-62b5-44a3-83db-1d8d14d5b65d"
      },
      "execution_count": null,
      "outputs": [
        {
          "output_type": "execute_result",
          "data": {
            "text/html": [
              "\n",
              "  <div id=\"df-9a8146a8-c8fb-482b-be65-b4013ab2dfd9\">\n",
              "    <div class=\"colab-df-container\">\n",
              "      <div>\n",
              "<style scoped>\n",
              "    .dataframe tbody tr th:only-of-type {\n",
              "        vertical-align: middle;\n",
              "    }\n",
              "\n",
              "    .dataframe tbody tr th {\n",
              "        vertical-align: top;\n",
              "    }\n",
              "\n",
              "    .dataframe thead th {\n",
              "        text-align: right;\n",
              "    }\n",
              "</style>\n",
              "<table border=\"1\" class=\"dataframe\">\n",
              "  <thead>\n",
              "    <tr style=\"text-align: right;\">\n",
              "      <th></th>\n",
              "      <th>Model</th>\n",
              "      <th>Accuracy</th>\n",
              "    </tr>\n",
              "  </thead>\n",
              "  <tbody>\n",
              "    <tr>\n",
              "      <th>0</th>\n",
              "      <td>KNN</td>\n",
              "      <td>0.79052</td>\n",
              "    </tr>\n",
              "    <tr>\n",
              "      <th>1</th>\n",
              "      <td>Naive Bayes</td>\n",
              "      <td>0.83520</td>\n",
              "    </tr>\n",
              "    <tr>\n",
              "      <th>2</th>\n",
              "      <td>Random Forests</td>\n",
              "      <td>0.83828</td>\n",
              "    </tr>\n",
              "    <tr>\n",
              "      <th>3</th>\n",
              "      <td>Linear SVM</td>\n",
              "      <td>0.88104</td>\n",
              "    </tr>\n",
              "    <tr>\n",
              "      <th>4</th>\n",
              "      <td>Logistic Regression</td>\n",
              "      <td>0.88988</td>\n",
              "    </tr>\n",
              "  </tbody>\n",
              "</table>\n",
              "</div>\n",
              "      <button class=\"colab-df-convert\" onclick=\"convertToInteractive('df-9a8146a8-c8fb-482b-be65-b4013ab2dfd9')\"\n",
              "              title=\"Convert this dataframe to an interactive table.\"\n",
              "              style=\"display:none;\">\n",
              "        \n",
              "  <svg xmlns=\"http://www.w3.org/2000/svg\" height=\"24px\"viewBox=\"0 0 24 24\"\n",
              "       width=\"24px\">\n",
              "    <path d=\"M0 0h24v24H0V0z\" fill=\"none\"/>\n",
              "    <path d=\"M18.56 5.44l.94 2.06.94-2.06 2.06-.94-2.06-.94-.94-2.06-.94 2.06-2.06.94zm-11 1L8.5 8.5l.94-2.06 2.06-.94-2.06-.94L8.5 2.5l-.94 2.06-2.06.94zm10 10l.94 2.06.94-2.06 2.06-.94-2.06-.94-.94-2.06-.94 2.06-2.06.94z\"/><path d=\"M17.41 7.96l-1.37-1.37c-.4-.4-.92-.59-1.43-.59-.52 0-1.04.2-1.43.59L10.3 9.45l-7.72 7.72c-.78.78-.78 2.05 0 2.83L4 21.41c.39.39.9.59 1.41.59.51 0 1.02-.2 1.41-.59l7.78-7.78 2.81-2.81c.8-.78.8-2.07 0-2.86zM5.41 20L4 18.59l7.72-7.72 1.47 1.35L5.41 20z\"/>\n",
              "  </svg>\n",
              "      </button>\n",
              "      \n",
              "  <style>\n",
              "    .colab-df-container {\n",
              "      display:flex;\n",
              "      flex-wrap:wrap;\n",
              "      gap: 12px;\n",
              "    }\n",
              "\n",
              "    .colab-df-convert {\n",
              "      background-color: #E8F0FE;\n",
              "      border: none;\n",
              "      border-radius: 50%;\n",
              "      cursor: pointer;\n",
              "      display: none;\n",
              "      fill: #1967D2;\n",
              "      height: 32px;\n",
              "      padding: 0 0 0 0;\n",
              "      width: 32px;\n",
              "    }\n",
              "\n",
              "    .colab-df-convert:hover {\n",
              "      background-color: #E2EBFA;\n",
              "      box-shadow: 0px 1px 2px rgba(60, 64, 67, 0.3), 0px 1px 3px 1px rgba(60, 64, 67, 0.15);\n",
              "      fill: #174EA6;\n",
              "    }\n",
              "\n",
              "    [theme=dark] .colab-df-convert {\n",
              "      background-color: #3B4455;\n",
              "      fill: #D2E3FC;\n",
              "    }\n",
              "\n",
              "    [theme=dark] .colab-df-convert:hover {\n",
              "      background-color: #434B5C;\n",
              "      box-shadow: 0px 1px 3px 1px rgba(0, 0, 0, 0.15);\n",
              "      filter: drop-shadow(0px 1px 2px rgba(0, 0, 0, 0.3));\n",
              "      fill: #FFFFFF;\n",
              "    }\n",
              "  </style>\n",
              "\n",
              "      <script>\n",
              "        const buttonEl =\n",
              "          document.querySelector('#df-9a8146a8-c8fb-482b-be65-b4013ab2dfd9 button.colab-df-convert');\n",
              "        buttonEl.style.display =\n",
              "          google.colab.kernel.accessAllowed ? 'block' : 'none';\n",
              "\n",
              "        async function convertToInteractive(key) {\n",
              "          const element = document.querySelector('#df-9a8146a8-c8fb-482b-be65-b4013ab2dfd9');\n",
              "          const dataTable =\n",
              "            await google.colab.kernel.invokeFunction('convertToInteractive',\n",
              "                                                     [key], {});\n",
              "          if (!dataTable) return;\n",
              "\n",
              "          const docLinkHtml = 'Like what you see? Visit the ' +\n",
              "            '<a target=\"_blank\" href=https://colab.research.google.com/notebooks/data_table.ipynb>data table notebook</a>'\n",
              "            + ' to learn more about interactive tables.';\n",
              "          element.innerHTML = '';\n",
              "          dataTable['output_type'] = 'display_data';\n",
              "          await google.colab.output.renderOutput(dataTable, element);\n",
              "          const docLink = document.createElement('div');\n",
              "          docLink.innerHTML = docLinkHtml;\n",
              "          element.appendChild(docLink);\n",
              "        }\n",
              "      </script>\n",
              "    </div>\n",
              "  </div>\n",
              "  "
            ],
            "text/plain": [
              "                 Model  Accuracy\n",
              "0                  KNN   0.79052\n",
              "1          Naive Bayes   0.83520\n",
              "2       Random Forests   0.83828\n",
              "3           Linear SVM   0.88104\n",
              "4  Logistic Regression   0.88988"
            ]
          },
          "metadata": {},
          "execution_count": 17
        }
      ]
    },
    {
      "cell_type": "code",
      "source": [
        "sns.barplot(data = df,x='Accuracy',y='Model')\n",
        "plt.show()"
      ],
      "metadata": {
        "colab": {
          "base_uri": "https://localhost:8080/",
          "height": 279
        },
        "id": "3OacZnST2Ux1",
        "outputId": "56082647-fb06-4d91-bd75-ed713b3f307c"
      },
      "execution_count": null,
      "outputs": [
        {
          "output_type": "display_data",
          "data": {
            "image/png": "[encoded data removed]",
            "text/plain": [
              "<Figure size 432x288 with 1 Axes>"
            ]
          },
          "metadata": {
            "needs_background": "light"
          }
        }
      ]
    }
  ],
  "metadata": {
    "colab": {
      "collapsed_sections": [
        "2gLDH_C6tDE8",
        "66oE_B5QXsOc",
        "MPySzPauvnDr",
        "kYkHRFAVyROD",
        "Ll1y-ue3e-AQ",
        "mYgys1mZSAKV",
        "xz4SdJD_6tr6",
        "9aKnsyOs7kAb",
        "N-unUFYR7p9K",
        "kMKoVgbtJAfL",
        "3vFKNCX-teML"
      ],
      "machine_shape": "hm",
      "name": "Copy of Copy of Copy of Copy of Classical Machine Learning for NLP.ipynb",
      "provenance": [],
      "include_colab_link": true
    },
    "kernelspec": {
      "display_name": "Python 3",
      "name": "python3"
    },
    "language_info": {
      "name": "python"
    }
  },
  "nbformat": 4,
  "nbformat_minor": 0
}